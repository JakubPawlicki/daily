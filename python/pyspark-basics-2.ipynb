{
 "cells": [
  {
   "cell_type": "code",
   "execution_count": 2,
   "metadata": {},
   "outputs": [],
   "source": [
    "from pyspark.sql import SparkSession\n",
    "spark = SparkSession.builder.master(\"local[*]\").getOrCreate()"
   ]
  },
  {
   "cell_type": "code",
   "execution_count": 4,
   "metadata": {},
   "outputs": [
    {
     "name": "stdout",
     "output_type": "stream",
     "text": [
      "+---+\n",
      "| id|\n",
      "+---+\n",
      "|  0|\n",
      "|  1|\n",
      "|  2|\n",
      "|  3|\n",
      "|  4|\n",
      "|  5|\n",
      "|  6|\n",
      "|  7|\n",
      "|  8|\n",
      "|  9|\n",
      "+---+\n",
      "\n"
     ]
    }
   ],
   "source": [
    "from tabulate import tabulate\n",
    "spark.range(10).show()"
   ]
  },
  {
   "cell_type": "code",
   "execution_count": 35,
   "metadata": {},
   "outputs": [
    {
     "name": "stdout",
     "output_type": "stream",
     "text": [
      "+----+----+\n",
      "|col0|col1|\n",
      "+----+----+\n",
      "|   0|   2|\n",
      "|   0|   4|\n",
      "|   0|null|\n",
      "|null|null|\n",
      "|   1|   2|\n",
      "|   1|   4|\n",
      "|   1|null|\n",
      "|null|null|\n",
      "+----+----+\n",
      "\n"
     ]
    }
   ],
   "source": [
    "spark.range(2).selectExpr(\"stack(4, id, 2, id, 4, id)\").show()"
   ]
  },
  {
   "cell_type": "code",
   "execution_count": 13,
   "metadata": {},
   "outputs": [
    {
     "ename": "ImportError",
     "evalue": "cannot import name stack",
     "output_type": "error",
     "traceback": [
      "\u001b[0;31m---------------------------------------------------------------------------\u001b[0m",
      "\u001b[0;31mImportError\u001b[0m                               Traceback (most recent call last)",
      "\u001b[0;32m<ipython-input-13-0152ae1a21c7>\u001b[0m in \u001b[0;36m<module>\u001b[0;34m()\u001b[0m\n\u001b[0;32m----> 1\u001b[0;31m \u001b[0;32mfrom\u001b[0m \u001b[0mpyspark\u001b[0m\u001b[0;34m.\u001b[0m\u001b[0msql\u001b[0m\u001b[0;34m.\u001b[0m\u001b[0mfunctions\u001b[0m \u001b[0;32mimport\u001b[0m \u001b[0mstack\u001b[0m\u001b[0;34m\u001b[0m\u001b[0m\n\u001b[0m",
      "\u001b[0;31mImportError\u001b[0m: cannot import name stack"
     ]
    }
   ],
   "source": [
    "from pyspark.sql.functions import stack"
   ]
  },
  {
   "cell_type": "code",
   "execution_count": 36,
   "metadata": {},
   "outputs": [],
   "source": [
    "from pyspark.sql import Row"
   ]
  },
  {
   "cell_type": "code",
   "execution_count": 39,
   "metadata": {},
   "outputs": [
    {
     "name": "stdout",
     "output_type": "stream",
     "text": [
      "+---+---+---+---+\n",
      "|  n|  a|  b|  c|\n",
      "+---+---+---+---+\n",
      "|aaa|bbb|ccc|  3|\n",
      "+---+---+---+---+\n",
      "\n"
     ]
    }
   ],
   "source": [
    "row = Row(\"aaa\", \"bbb\", \"ccc\", 3)\n",
    "df = spark.createDataFrame([row],[\"n\", \"a\" ,\"b\", \"c\"] )\n",
    "df.show()"
   ]
  },
  {
   "cell_type": "code",
   "execution_count": 51,
   "metadata": {},
   "outputs": [
    {
     "name": "stdout",
     "output_type": "stream",
     "text": [
      "+----+----+\n",
      "|col0|col1|\n",
      "+----+----+\n",
      "| bbb| ccc|\n",
      "| bbb| ccc|\n",
      "| ppp| ccc|\n",
      "+----+----+\n",
      "\n"
     ]
    }
   ],
   "source": [
    "df.selectExpr(\"stack(3, a, b, a, b, 'ppp', b)\").show()"
   ]
  },
  {
   "cell_type": "code",
   "execution_count": 67,
   "metadata": {},
   "outputs": [
    {
     "name": "stdout",
     "output_type": "stream",
     "text": [
      "+----+\n",
      "|col0|\n",
      "+----+\n",
      "|   1|\n",
      "+----+\n",
      "\n"
     ]
    }
   ],
   "source": [
    "spark.range(1).selectExpr(\"stack(1, 1)\").show()"
   ]
  },
  {
   "cell_type": "code",
   "execution_count": 68,
   "metadata": {},
   "outputs": [
    {
     "name": "stdout",
     "output_type": "stream",
     "text": [
      "+----+\n",
      "|col0|\n",
      "+----+\n",
      "|   1|\n",
      "|null|\n",
      "+----+\n",
      "\n"
     ]
    }
   ],
   "source": [
    "spark.range(1).selectExpr(\"stack(2, 1)\").show()"
   ]
  },
  {
   "cell_type": "code",
   "execution_count": 65,
   "metadata": {},
   "outputs": [
    {
     "name": "stdout",
     "output_type": "stream",
     "text": [
      "+----+\n",
      "|col0|\n",
      "+----+\n",
      "|   1|\n",
      "|null|\n",
      "|null|\n",
      "+----+\n",
      "\n"
     ]
    }
   ],
   "source": [
    "spark.range(1).selectExpr(\"stack(3, 1)\").show()"
   ]
  },
  {
   "cell_type": "code",
   "execution_count": 71,
   "metadata": {},
   "outputs": [
    {
     "name": "stdout",
     "output_type": "stream",
     "text": [
      "+----+----+----+\n",
      "|col0|col1|col2|\n",
      "+----+----+----+\n",
      "|   1|  DD|   1|\n",
      "+----+----+----+\n",
      "\n"
     ]
    }
   ],
   "source": [
    "spark.range(1).selectExpr(\"stack(1, 1, 'DD', 1)\").show()"
   ]
  },
  {
   "cell_type": "code",
   "execution_count": 75,
   "metadata": {},
   "outputs": [
    {
     "name": "stdout",
     "output_type": "stream",
     "text": [
      "+----+----+\n",
      "|col0|col1|\n",
      "+----+----+\n",
      "|   1|   6|\n",
      "|   1|null|\n",
      "+----+----+\n",
      "\n"
     ]
    }
   ],
   "source": [
    "spark.range(1).selectExpr(\"stack(2, 1, 6, 1)\").show()"
   ]
  },
  {
   "cell_type": "code",
   "execution_count": 79,
   "metadata": {},
   "outputs": [
    {
     "name": "stdout",
     "output_type": "stream",
     "text": [
      "+----+----+----+\n",
      "|col0|col1|col2|\n",
      "+----+----+----+\n",
      "|   1|   6|   1|\n",
      "|   8|  88| 888|\n",
      "| 999|null|null|\n",
      "+----+----+----+\n",
      "\n"
     ]
    }
   ],
   "source": [
    "spark.range(1).selectExpr(\"stack(3, 1, 6, 1, 8, 88, 888, 999)\").show()"
   ]
  },
  {
   "cell_type": "code",
   "execution_count": 80,
   "metadata": {},
   "outputs": [
    {
     "name": "stdout",
     "output_type": "stream",
     "text": [
      "+----+----+----+----+----+----+----+\n",
      "|col0|col1|col2|col3|col4|col5|col6|\n",
      "+----+----+----+----+----+----+----+\n",
      "|   1|   6|   1|   8|  88| 888| 999|\n",
      "+----+----+----+----+----+----+----+\n",
      "\n"
     ]
    }
   ],
   "source": [
    "spark.range(1).selectExpr(\"stack(1, 1, 6, 1, 8, 88, 888, 999)\").show()"
   ]
  },
  {
   "cell_type": "code",
   "execution_count": 81,
   "metadata": {},
   "outputs": [
    {
     "name": "stdout",
     "output_type": "stream",
     "text": [
      "+----+----+----+----+----+----+----+\n",
      "|col0|col1|col2|col3|col4|col5|col6|\n",
      "+----+----+----+----+----+----+----+\n",
      "|   1|   6|   1|   8|  88| 888| 999|\n",
      "|   1|   6|   1|   8|  88| 888| 999|\n",
      "+----+----+----+----+----+----+----+\n",
      "\n"
     ]
    }
   ],
   "source": [
    "spark.range(2).selectExpr(\"stack(1, 1, 6, 1, 8, 88, 888, 999)\").show()"
   ]
  },
  {
   "cell_type": "code",
   "execution_count": 82,
   "metadata": {},
   "outputs": [
    {
     "name": "stdout",
     "output_type": "stream",
     "text": [
      "+----+----+----+----+----+----+----+\n",
      "|col0|col1|col2|col3|col4|col5|col6|\n",
      "+----+----+----+----+----+----+----+\n",
      "|   1|   6|   1|   8|  88| 888| 999|\n",
      "|   1|   6|   1|   8|  88| 888| 999|\n",
      "|   1|   6|   1|   8|  88| 888| 999|\n",
      "|   1|   6|   1|   8|  88| 888| 999|\n",
      "|   1|   6|   1|   8|  88| 888| 999|\n",
      "+----+----+----+----+----+----+----+\n",
      "\n"
     ]
    }
   ],
   "source": [
    "spark.range(5).selectExpr(\"stack(1, 1, 6, 1, 8, 88, 888, 999)\").show()"
   ]
  },
  {
   "cell_type": "code",
   "execution_count": 84,
   "metadata": {},
   "outputs": [
    {
     "name": "stdout",
     "output_type": "stream",
     "text": [
      "+----+----+----+----+----+----+----+\n",
      "|col0|col1|col2|col3|col4|col5|col6|\n",
      "+----+----+----+----+----+----+----+\n",
      "|   0|   6|   1|   8|  88| 888| 999|\n",
      "|   1|   6|   1|   8|  88| 888| 999|\n",
      "|   2|   6|   1|   8|  88| 888| 999|\n",
      "|   3|   6|   1|   8|  88| 888| 999|\n",
      "|   4|   6|   1|   8|  88| 888| 999|\n",
      "+----+----+----+----+----+----+----+\n",
      "\n"
     ]
    }
   ],
   "source": [
    "spark.range(5).selectExpr(\"stack(1, id, 6, 1, 8, 88, 888, 999)\").show()"
   ]
  },
  {
   "cell_type": "code",
   "execution_count": 89,
   "metadata": {},
   "outputs": [
    {
     "name": "stdout",
     "output_type": "stream",
     "text": [
      "+----+----+----+----+----+\n",
      "|col0|col1|col2|col3|col4|\n",
      "+----+----+----+----+----+\n",
      "|   0|   6|   1|   8|  88|\n",
      "| 888| 999|  -8|  -9|   0|\n",
      "|   1|   6|   1|   8|  88|\n",
      "| 888| 999|  -8|  -9|   1|\n",
      "|   2|   6|   1|   8|  88|\n",
      "| 888| 999|  -8|  -9|   2|\n",
      "|   3|   6|   1|   8|  88|\n",
      "| 888| 999|  -8|  -9|   3|\n",
      "|   4|   6|   1|   8|  88|\n",
      "| 888| 999|  -8|  -9|   4|\n",
      "+----+----+----+----+----+\n",
      "\n"
     ]
    }
   ],
   "source": [
    "spark.range(5).selectExpr(\"stack(2, cast(id as int), 6, 1, 8, 88, 888, 999, -8, -9, cast(id as int))\").show()"
   ]
  },
  {
   "cell_type": "code",
   "execution_count": 16,
   "metadata": {},
   "outputs": [
    {
     "name": "stdout",
     "output_type": "stream",
     "text": [
      "  id  a    b    c\n",
      "----  ---  ---  ---\n",
      "   1  a1   b1   c1\n",
      "   2  a2   b2   c2\n",
      "   3  a3   b3   c3\n",
      "\n",
      "  col0  col1    col2\n",
      "------  ------  ------\n",
      "     1  a       a1\n",
      "     1  b       b1\n",
      "     1  c       c1\n",
      "     2  a       a2\n",
      "     2  b       b2\n",
      "     2  c       c2\n",
      "     3  a       a3\n",
      "     3  b       b3\n",
      "     3  c       c3\n"
     ]
    }
   ],
   "source": [
    "import pyspark\n",
    "rows = [pyspark.sql.Row(str(i), \"a\" + str(i),\"b\" + str(i),\"c\" + str(i)) for i in range(1,4)]\n",
    "df = spark.createDataFrame(rows, [\"id\", \"a\", \"b\", \"c\"])\n",
    "print(tabulate(df.collect(), df.columns))\n",
    "print(\"\")\n",
    "df2 = df.selectExpr(\"stack(3, id, 'a', a, id, 'b', b, id, 'c', c)\")\n",
    "print(tabulate(df2.collect(), df2.columns))"
   ]
  },
  {
   "cell_type": "code",
   "execution_count": 5,
   "metadata": {},
   "outputs": [
    {
     "name": "stdout",
     "output_type": "stream",
     "text": [
      "-\n",
      "s\n",
      "d\n",
      "f\n",
      "g\n",
      "-\n"
     ]
    }
   ],
   "source": [
    "print(tabulate(list(\"sdfg\")))"
   ]
  },
  {
   "cell_type": "code",
   "execution_count": 108,
   "metadata": {},
   "outputs": [
    {
     "data": {
      "text/plain": [
       "['/home/orpington/dbgen-data/nation.tbl',\n",
       " '/home/orpington/dbgen-data/partsupp.tbl',\n",
       " '/home/orpington/dbgen-data/orders.tbl',\n",
       " '/home/orpington/dbgen-data/part.tbl',\n",
       " '/home/orpington/dbgen-data/supplier.tbl',\n",
       " '/home/orpington/dbgen-data/customer.tbl',\n",
       " '/home/orpington/dbgen-data/lineitem.tbl',\n",
       " '/home/orpington/dbgen-data/region.tbl']"
      ]
     },
     "execution_count": 108,
     "metadata": {},
     "output_type": "execute_result"
    }
   ],
   "source": [
    "import os\n",
    "data_dir = os.path.join(os.path.expandvars(\"$HOME\"), \"dbgen-data\")\n",
    "[os.path.join(data_dir, f) for f in os.listdir(data_dir)]"
   ]
  },
  {
   "cell_type": "code",
   "execution_count": 128,
   "metadata": {},
   "outputs": [
    {
     "data": {
      "application/json": {
       "cell": {
        "!": "OSMagics",
        "HTML": "Other",
        "SVG": "Other",
        "bash": "Other",
        "capture": "ExecutionMagics",
        "debug": "ExecutionMagics",
        "file": "Other",
        "html": "DisplayMagics",
        "javascript": "DisplayMagics",
        "js": "DisplayMagics",
        "latex": "DisplayMagics",
        "perl": "Other",
        "prun": "ExecutionMagics",
        "pypy": "Other",
        "python": "Other",
        "python2": "Other",
        "python3": "Other",
        "ruby": "Other",
        "script": "ScriptMagics",
        "sh": "Other",
        "svg": "DisplayMagics",
        "sx": "OSMagics",
        "system": "OSMagics",
        "time": "ExecutionMagics",
        "timeit": "ExecutionMagics",
        "writefile": "OSMagics"
       },
       "line": {
        "alias": "OSMagics",
        "alias_magic": "BasicMagics",
        "autocall": "AutoMagics",
        "automagic": "AutoMagics",
        "autosave": "KernelMagics",
        "bookmark": "OSMagics",
        "cat": "Other",
        "cd": "OSMagics",
        "clear": "KernelMagics",
        "colors": "BasicMagics",
        "config": "ConfigMagics",
        "connect_info": "KernelMagics",
        "cp": "Other",
        "debug": "ExecutionMagics",
        "dhist": "OSMagics",
        "dirs": "OSMagics",
        "doctest_mode": "BasicMagics",
        "ed": "Other",
        "edit": "KernelMagics",
        "env": "OSMagics",
        "gui": "BasicMagics",
        "hist": "Other",
        "history": "HistoryMagics",
        "killbgscripts": "ScriptMagics",
        "ldir": "Other",
        "less": "KernelMagics",
        "lf": "Other",
        "lk": "Other",
        "ll": "Other",
        "load": "CodeMagics",
        "load_ext": "ExtensionMagics",
        "loadpy": "CodeMagics",
        "logoff": "LoggingMagics",
        "logon": "LoggingMagics",
        "logstart": "LoggingMagics",
        "logstate": "LoggingMagics",
        "logstop": "LoggingMagics",
        "ls": "Other",
        "lsmagic": "BasicMagics",
        "lx": "Other",
        "macro": "ExecutionMagics",
        "magic": "BasicMagics",
        "man": "KernelMagics",
        "matplotlib": "PylabMagics",
        "mkdir": "Other",
        "more": "KernelMagics",
        "mv": "Other",
        "notebook": "BasicMagics",
        "page": "BasicMagics",
        "pastebin": "CodeMagics",
        "pdb": "ExecutionMagics",
        "pdef": "NamespaceMagics",
        "pdoc": "NamespaceMagics",
        "pfile": "NamespaceMagics",
        "pinfo": "NamespaceMagics",
        "pinfo2": "NamespaceMagics",
        "popd": "OSMagics",
        "pprint": "BasicMagics",
        "precision": "BasicMagics",
        "profile": "BasicMagics",
        "prun": "ExecutionMagics",
        "psearch": "NamespaceMagics",
        "psource": "NamespaceMagics",
        "pushd": "OSMagics",
        "pwd": "OSMagics",
        "pycat": "OSMagics",
        "pylab": "PylabMagics",
        "qtconsole": "KernelMagics",
        "quickref": "BasicMagics",
        "recall": "HistoryMagics",
        "rehashx": "OSMagics",
        "reload_ext": "ExtensionMagics",
        "rep": "Other",
        "rerun": "HistoryMagics",
        "reset": "NamespaceMagics",
        "reset_selective": "NamespaceMagics",
        "rm": "Other",
        "rmdir": "Other",
        "run": "ExecutionMagics",
        "save": "CodeMagics",
        "sc": "OSMagics",
        "set_env": "OSMagics",
        "store": "StoreMagics",
        "sx": "OSMagics",
        "system": "OSMagics",
        "tb": "ExecutionMagics",
        "time": "ExecutionMagics",
        "timeit": "ExecutionMagics",
        "unalias": "OSMagics",
        "unload_ext": "ExtensionMagics",
        "who": "NamespaceMagics",
        "who_ls": "NamespaceMagics",
        "whos": "NamespaceMagics",
        "xdel": "NamespaceMagics",
        "xmode": "BasicMagics"
       }
      },
      "text/plain": [
       "Available line magics:\n",
       "%alias  %alias_magic  %autocall  %automagic  %autosave  %bookmark  %cat  %cd  %clear  %colors  %config  %connect_info  %cp  %debug  %dhist  %dirs  %doctest_mode  %ed  %edit  %env  %gui  %hist  %history  %killbgscripts  %ldir  %less  %lf  %lk  %ll  %load  %load_ext  %loadpy  %logoff  %logon  %logstart  %logstate  %logstop  %ls  %lsmagic  %lx  %macro  %magic  %man  %matplotlib  %mkdir  %more  %mv  %notebook  %page  %pastebin  %pdb  %pdef  %pdoc  %pfile  %pinfo  %pinfo2  %popd  %pprint  %precision  %profile  %prun  %psearch  %psource  %pushd  %pwd  %pycat  %pylab  %qtconsole  %quickref  %recall  %rehashx  %reload_ext  %rep  %rerun  %reset  %reset_selective  %rm  %rmdir  %run  %save  %sc  %set_env  %store  %sx  %system  %tb  %time  %timeit  %unalias  %unload_ext  %who  %who_ls  %whos  %xdel  %xmode\n",
       "\n",
       "Available cell magics:\n",
       "%%!  %%HTML  %%SVG  %%bash  %%capture  %%debug  %%file  %%html  %%javascript  %%js  %%latex  %%perl  %%prun  %%pypy  %%python  %%python2  %%python3  %%ruby  %%script  %%sh  %%svg  %%sx  %%system  %%time  %%timeit  %%writefile\n",
       "\n",
       "Automagic is ON, % prefix IS NOT needed for line magics."
      ]
     },
     "execution_count": 128,
     "metadata": {},
     "output_type": "execute_result"
    }
   ],
   "source": [
    "%lsmagic"
   ]
  },
  {
   "cell_type": "code",
   "execution_count": 57,
   "metadata": {},
   "outputs": [],
   "source": [
    "df = spark.read\\\n",
    "          .format(\"csv\")\\\n",
    "          .option(\"sep\", \"|\")\\\n",
    "          .option(\"header\", False)\\\n",
    "          .option(\"inferSchema\", True)\\\n",
    "          .option(\"ignoreTrailingWhitespace\", True)\\\n",
    "          .load(\"/home/orpington/dbgen-data/nation.tbl\")\n",
    "        \n",
    "for i, new_name in enumerate([\"id\", \"country\", \"num\",\"desc\", \"n\"]):\n",
    "    df = df.withColumnRenamed(df.columns[i], new_name)"
   ]
  },
  {
   "cell_type": "code",
   "execution_count": 59,
   "metadata": {},
   "outputs": [
    {
     "name": "stdout",
     "output_type": "stream",
     "text": [
      "  id  country           num  desc                                                                                                               n\n",
      "----  --------------  -----  -----------------------------------------------------------------------------------------------------------------  ---\n",
      "   0  ALGERIA             0  haggle. carefully final deposits detect slyly agai\n",
      "   1  ARGENTINA           1  al foxes promise slyly according to the regular accounts. bold requests alon\n",
      "   2  BRAZIL              1  y alongside of the pending deposits. carefully special packages are about the ironic forges. slyly special\n",
      "   3  CANADA              1  eas hang ironic, silent packages. slyly regular packages are furiously over the tithes. fluffily bold\n",
      "   4  EGYPT               4  y above the carefully unusual theodolites. final dugouts are quickly across the furiously regular d\n",
      "   5  ETHIOPIA            0  ven packages wake quickly. regu\n",
      "   6  FRANCE              3  refully final requests. regular, ironi\n",
      "   7  GERMANY             3  l platelets. regular accounts x-ray: unusual, regular acco\n",
      "   8  INDIA               2  ss excuses cajole slyly across the packages. deposits print aroun\n",
      "   9  INDONESIA           2  slyly express asymptotes. regular deposits haggle slyly. carefully ironic hockey players sleep blithely. carefull\n",
      "  10  IRAN                4  efully alongside of the slyly final dependencies.\n",
      "  11  IRAQ                4  nic deposits boost atop the quickly final requests? quickly regula\n",
      "  12  JAPAN               2  ously. final, express gifts cajole a\n",
      "  13  JORDAN              4  ic deposits are blithely about the carefully regular pa\n",
      "  14  KENYA               0  pending excuses haggle furiously deposits. pending, express pinto beans wake fluffily past t\n",
      "  15  MOROCCO             0  rns. blithely bold courts among the closely regular packages use furiously bold platelets?\n",
      "  16  MOZAMBIQUE          0  s. ironic, unusual asymptotes wake blithely r\n",
      "  17  PERU                1  platelets. blithely pending dependencies use fluffily across the even pinto beans. carefully silent accoun\n",
      "  18  CHINA               2  c dependencies. furiously express notornis sleep slyly regular accounts. ideas sleep. depos\n",
      "  19  ROMANIA             3  ular asymptotes are about the furious multipliers. express dependencies nag above the ironically ironic account\n",
      "  20  SAUDI ARABIA        4  ts. silent requests haggle. closely express packages sleep across the blithely\n",
      "  21  VIETNAM             2  hely enticingly express accounts. even, final\n",
      "  22  RUSSIA              3  requests against the platelets use never according to the quickly regular pint\n",
      "  23  UNITED KINGDOM      3  eans boost carefully special requests. accounts are. carefull\n",
      "  24  UNITED STATES       1  y final packages. slow foxes cajole quickly. quickly silent platelets breach ironic accounts. unusual pinto be\n"
     ]
    }
   ],
   "source": [
    "print(tabulate(df.collect(), df.columns))"
   ]
  },
  {
   "cell_type": "code",
   "execution_count": 60,
   "metadata": {},
   "outputs": [
    {
     "name": "stdout",
     "output_type": "stream",
     "text": [
      "+---+----------+---+--------------------+----+\n",
      "| id|   country|num|                desc|   n|\n",
      "+---+----------+---+--------------------+----+\n",
      "|  0|   ALGERIA|  0| haggle. carefull...|null|\n",
      "|  1| ARGENTINA|  1|al foxes promise ...|null|\n",
      "|  2|    BRAZIL|  1|y alongside of th...|null|\n",
      "|  3|    CANADA|  1|eas hang ironic, ...|null|\n",
      "|  4|     EGYPT|  4|y above the caref...|null|\n",
      "|  5|  ETHIOPIA|  0|ven packages wake...|null|\n",
      "|  6|    FRANCE|  3|refully final req...|null|\n",
      "|  7|   GERMANY|  3|l platelets. regu...|null|\n",
      "|  8|     INDIA|  2|ss excuses cajole...|null|\n",
      "|  9| INDONESIA|  2| slyly express as...|null|\n",
      "| 10|      IRAN|  4|efully alongside ...|null|\n",
      "| 11|      IRAQ|  4|nic deposits boos...|null|\n",
      "| 12|     JAPAN|  2|ously. final, exp...|null|\n",
      "| 13|    JORDAN|  4|ic deposits are b...|null|\n",
      "| 14|     KENYA|  0| pending excuses ...|null|\n",
      "| 15|   MOROCCO|  0|rns. blithely bol...|null|\n",
      "| 16|MOZAMBIQUE|  0|s. ironic, unusua...|null|\n",
      "| 17|      PERU|  1|platelets. blithe...|null|\n",
      "| 18|     CHINA|  2|c dependencies. f...|null|\n",
      "| 19|   ROMANIA|  3|ular asymptotes a...|null|\n",
      "+---+----------+---+--------------------+----+\n",
      "only showing top 20 rows\n",
      "\n"
     ]
    }
   ],
   "source": [
    "df.show()"
   ]
  },
  {
   "cell_type": "code",
   "execution_count": 61,
   "metadata": {},
   "outputs": [],
   "source": [
    "from pyspark.sql.functions import *"
   ]
  },
  {
   "cell_type": "code",
   "execution_count": 74,
   "metadata": {},
   "outputs": [
    {
     "name": "stdout",
     "output_type": "stream",
     "text": [
      "+---+---------+---+--------------------+----+\n",
      "| id|  country|num|                desc|   n|\n",
      "+---+---------+---+--------------------+----+\n",
      "|  8|    INDIA|  2|ss excuses cajole...|null|\n",
      "|  9|INDONESIA|  2| slyly express as...|null|\n",
      "| 11|     IRAQ|  4|nic deposits boos...|null|\n",
      "| 12|    JAPAN|  2|ously. final, exp...|null|\n",
      "| 13|   JORDAN|  4|ic deposits are b...|null|\n",
      "+---+---------+---+--------------------+----+\n",
      "\n"
     ]
    }
   ],
   "source": [
    "all_i = col(\"country\").startswith(\"I\")\n",
    "or_j = all_i | col(\"country\").startswith(\"J\")\n",
    "df.where(or_j)\\\n",
    "  .filter(col(\"country\") != \"IRAN\").show()"
   ]
  },
  {
   "cell_type": "code",
   "execution_count": 89,
   "metadata": {},
   "outputs": [],
   "source": [
    "sql = \"\"\"\n",
    "SELECT *\n",
    "FROM df\n",
    "WHERE (instr(country, 'I') = 1 or instr(country, 'J') = 1)\n",
    "  AND country != 'IRAN'\n",
    "\"\"\""
   ]
  },
  {
   "cell_type": "code",
   "execution_count": 90,
   "metadata": {},
   "outputs": [
    {
     "name": "stdout",
     "output_type": "stream",
     "text": [
      "+--------------------+\n",
      "|            function|\n",
      "+--------------------+\n",
      "|                 abs|\n",
      "|                acos|\n",
      "|          add_months|\n",
      "|approx_count_dist...|\n",
      "|      array_contains|\n",
      "|               ascii|\n",
      "|                asin|\n",
      "|         assert_true|\n",
      "|              base64|\n",
      "|                cast|\n",
      "|            coalesce|\n",
      "|        collect_list|\n",
      "|         collect_set|\n",
      "|           concat_ws|\n",
      "|                 cos|\n",
      "|                cosh|\n",
      "|    count_min_sketch|\n",
      "|          covar_samp|\n",
      "|           cume_dist|\n",
      "|    current_database|\n",
      "+--------------------+\n",
      "only showing top 20 rows\n",
      "\n"
     ]
    }
   ],
   "source": [
    "spark.sql(\"show functions\").where(col(\"function\").contains(\"s\")).show()"
   ]
  },
  {
   "cell_type": "code",
   "execution_count": 91,
   "metadata": {},
   "outputs": [
    {
     "name": "stdout",
     "output_type": "stream",
     "text": [
      "+---+---------+---+--------------------+----+\n",
      "| id|  country|num|                desc|   n|\n",
      "+---+---------+---+--------------------+----+\n",
      "|  8|    INDIA|  2|ss excuses cajole...|null|\n",
      "|  9|INDONESIA|  2| slyly express as...|null|\n",
      "| 11|     IRAQ|  4|nic deposits boos...|null|\n",
      "| 12|    JAPAN|  2|ously. final, exp...|null|\n",
      "| 13|   JORDAN|  4|ic deposits are b...|null|\n",
      "+---+---------+---+--------------------+----+\n",
      "\n"
     ]
    }
   ],
   "source": [
    "df.createOrReplaceTempView(\"df\")\n",
    "df_sql = spark.sql(sql)\n",
    "df_sql.show()"
   ]
  },
  {
   "cell_type": "code",
   "execution_count": 93,
   "metadata": {},
   "outputs": [
    {
     "name": "stdout",
     "output_type": "stream",
     "text": [
      "+---+-------------+---+--------------------+----+----+\n",
      "| id|      country|num|                desc|   n|  is|\n",
      "+---+-------------+---+--------------------+----+----+\n",
      "|  0|      ALGERIA|  0| haggle. carefull...|null|true|\n",
      "|  3|       CANADA|  1|eas hang ironic, ...|null|true|\n",
      "|  6|       FRANCE|  3|refully final req...|null|true|\n",
      "|  9|    INDONESIA|  2| slyly express as...|null|true|\n",
      "| 12|        JAPAN|  2|ously. final, exp...|null|true|\n",
      "| 15|      MOROCCO|  0|rns. blithely bol...|null|true|\n",
      "| 18|        CHINA|  2|c dependencies. f...|null|true|\n",
      "| 21|      VIETNAM|  2|hely enticingly e...|null|true|\n",
      "| 24|UNITED STATES|  1|y final packages....|null|true|\n",
      "+---+-------------+---+--------------------+----+----+\n",
      "\n"
     ]
    }
   ],
   "source": [
    "b = ((col(\"id\") % 3) == 0)\n",
    "df.withColumn(\"is\", b).where(\"is\").show()"
   ]
  },
  {
   "cell_type": "code",
   "execution_count": 115,
   "metadata": {},
   "outputs": [
    {
     "name": "stdout",
     "output_type": "stream",
     "text": [
      "+----------+------+------+-------+\n",
      "|   country| power| value|rounded|\n",
      "+----------+------+------+-------+\n",
      "|   ALGERIA|   0.0|   1.0|    0.0|\n",
      "| ARGENTINA|   1.0|   2.0|    1.0|\n",
      "|    BRAZIL|   4.0|   5.0|    1.0|\n",
      "|    CANADA|   9.0|  10.0|    2.0|\n",
      "|     EGYPT| 256.0| 257.0|    2.0|\n",
      "|  ETHIOPIA|   0.0|   1.0|    3.0|\n",
      "|    FRANCE| 324.0| 325.0|    3.0|\n",
      "|   GERMANY| 441.0| 442.0|    4.0|\n",
      "|     INDIA| 256.0| 257.0|    4.0|\n",
      "| INDONESIA| 324.0| 325.0|    5.0|\n",
      "|      IRAN|1600.0|1601.0|    5.0|\n",
      "|      IRAQ|1936.0|1937.0|    6.0|\n",
      "|     JAPAN| 576.0| 577.0|    6.0|\n",
      "|    JORDAN|2704.0|2705.0|    7.0|\n",
      "|     KENYA|   0.0|   1.0|    7.0|\n",
      "|   MOROCCO|   0.0|   1.0|    8.0|\n",
      "|MOZAMBIQUE|   0.0|   1.0|    8.0|\n",
      "|      PERU| 289.0| 290.0|    9.0|\n",
      "|     CHINA|1296.0|1297.0|    9.0|\n",
      "|   ROMANIA|3249.0|3250.0|   10.0|\n",
      "+----------+------+------+-------+\n",
      "only showing top 20 rows\n",
      "\n"
     ]
    }
   ],
   "source": [
    "exprs = []\n",
    "exprs += [pow(col(\"id\") * col(\"num\"), 2).alias(\"power\")]\n",
    "exprs += [expr(\"POWER((id * num), 2) +1 as value\")]\n",
    "exprs += [round(col(\"id\") / 2).alias(\"rounded\")]\n",
    "\n",
    "df.select(expr(\"country\"), *exprs).show(3)\n",
    "#df.select(expr(\"country\"),\n",
    "#          value.alias(\"value\")).show()"
   ]
  },
  {
   "cell_type": "code",
   "execution_count": 120,
   "metadata": {},
   "outputs": [
    {
     "name": "stdout",
     "output_type": "stream",
     "text": [
      "+-------------+--------------+\n",
      "|round(2.5, 0)|bround(2.5, 0)|\n",
      "+-------------+--------------+\n",
      "|          3.0|           2.0|\n",
      "+-------------+--------------+\n",
      "\n"
     ]
    }
   ],
   "source": [
    "spark.range(1).select(round(lit(2.5)), bround(lit(2.5))).show(3)"
   ]
  },
  {
   "cell_type": "code",
   "execution_count": 121,
   "metadata": {},
   "outputs": [
    {
     "data": {
      "text/plain": [
       "0.18042684432712935"
      ]
     },
     "execution_count": 121,
     "metadata": {},
     "output_type": "execute_result"
    }
   ],
   "source": [
    "df.stat.corr(\"id\", \"num\")"
   ]
  },
  {
   "cell_type": "code",
   "execution_count": 123,
   "metadata": {},
   "outputs": [
    {
     "name": "stdout",
     "output_type": "stream",
     "text": [
      "+-------------------+\n",
      "|      corr(id, num)|\n",
      "+-------------------+\n",
      "|0.18042684432712935|\n",
      "+-------------------+\n",
      "\n"
     ]
    }
   ],
   "source": [
    "df.select(corr(\"id\", \"num\")).show()"
   ]
  },
  {
   "cell_type": "code",
   "execution_count": 125,
   "metadata": {},
   "outputs": [
    {
     "name": "stdout",
     "output_type": "stream",
     "text": [
      "+-------+-----------------+-------+------------------+--------------------+----+\n",
      "|summary|               id|country|               num|                desc|   n|\n",
      "+-------+-----------------+-------+------------------+--------------------+----+\n",
      "|  count|               25|     25|                25|                  25|   0|\n",
      "|   mean|             12.0|   null|               2.0|                null|null|\n",
      "| stddev|7.359800721939872|   null|1.4433756729740645|                null|null|\n",
      "|    min|                0|ALGERIA|                 0| haggle. carefull...|null|\n",
      "|    max|               24|VIETNAM|                 4|y final packages....|null|\n",
      "+-------+-----------------+-------+------------------+--------------------+----+\n",
      "\n"
     ]
    }
   ],
   "source": [
    "df.describe().show()"
   ]
  },
  {
   "cell_type": "code",
   "execution_count": 133,
   "metadata": {},
   "outputs": [
    {
     "name": "stdout",
     "output_type": "stream",
     "text": [
      "+--------+---+---+---+---+---+\n",
      "|lens_num|  0|  1|  2|  3|  4|\n",
      "+--------+---+---+---+---+---+\n",
      "|      12|  0|  0|  0|  0|  1|\n",
      "|       8|  1|  0|  0|  0|  0|\n",
      "|       4|  0|  1|  0|  0|  2|\n",
      "|       9|  0|  1|  1|  0|  0|\n",
      "|      13|  0|  1|  0|  0|  0|\n",
      "|       5|  1|  0|  3|  0|  1|\n",
      "|      10|  1|  0|  0|  0|  0|\n",
      "|       6|  0|  2|  0|  2|  1|\n",
      "|      14|  0|  0|  0|  1|  0|\n",
      "|       7|  2|  0|  1|  2|  0|\n",
      "+--------+---+---+---+---+---+\n",
      "\n"
     ]
    }
   ],
   "source": [
    "df.withColumn(\"lens\", length(col(\"country\")).cast(\"string\"))\\\n",
    "  .crosstab(\"lens\", \"num\").show()"
   ]
  },
  {
   "cell_type": "code",
   "execution_count": 137,
   "metadata": {},
   "outputs": [
    {
     "name": "stdout",
     "output_type": "stream",
     "text": [
      "+---+\n",
      "|col|\n",
      "+---+\n",
      "|  5|\n",
      "| 12|\n",
      "|  8|\n",
      "|  7|\n",
      "|  4|\n",
      "| 14|\n",
      "|  6|\n",
      "|  9|\n",
      "| 10|\n",
      "| 13|\n",
      "+---+\n",
      "\n"
     ]
    }
   ],
   "source": [
    "freq = df.withColumn(\"lens\", length(col(\"country\")).cast(\"string\"))\\\n",
    "         .freqItems([\"lens\"])\n",
    "freq.select(explode(freq.columns[0])).show()"
   ]
  },
  {
   "cell_type": "code",
   "execution_count": 181,
   "metadata": {},
   "outputs": [
    {
     "name": "stdout",
     "output_type": "stream",
     "text": [
      "initcap                 lower                   upper                   lit\n",
      "----------------------  ----------------------  ----------------------  -----\n",
      "Country Algeria         country algeria         COUNTRY ALGERIA         ddd\n",
      "Country Argentina       country argentina       COUNTRY ARGENTINA       ddd\n",
      "Country Brazil          country brazil          COUNTRY BRAZIL          ddd\n",
      "Country Canada          country canada          COUNTRY CANADA          ddd\n",
      "Country Egypt           country egypt           COUNTRY EGYPT           ddd\n",
      "Country Ethiopia        country ethiopia        COUNTRY ETHIOPIA        ddd\n",
      "Country France          country france          COUNTRY FRANCE          ddd\n",
      "Country Germany         country germany         COUNTRY GERMANY         ddd\n",
      "Country India           country india           COUNTRY INDIA           ddd\n",
      "Country Indonesia       country indonesia       COUNTRY INDONESIA       ddd\n",
      "Country Iran            country iran            COUNTRY IRAN            ddd\n",
      "Country Iraq            country iraq            COUNTRY IRAQ            ddd\n",
      "Country Japan           country japan           COUNTRY JAPAN           ddd\n",
      "Country Jordan          country jordan          COUNTRY JORDAN          ddd\n",
      "Country Kenya           country kenya           COUNTRY KENYA           ddd\n",
      "Country Morocco         country morocco         COUNTRY MOROCCO         ddd\n",
      "Country Mozambique      country mozambique      COUNTRY MOZAMBIQUE      ddd\n",
      "Country Peru            country peru            COUNTRY PERU            ddd\n",
      "Country China           country china           COUNTRY CHINA           ddd\n",
      "Country Romania         country romania         COUNTRY ROMANIA         ddd\n",
      "Country Saudi Arabia    country saudi arabia    COUNTRY SAUDI ARABIA    ddd\n",
      "Country Vietnam         country vietnam         COUNTRY VIETNAM         ddd\n",
      "Country Russia          country russia          COUNTRY RUSSIA          ddd\n",
      "Country United Kingdom  country united kingdom  COUNTRY UNITED KINGDOM  ddd\n",
      "Country United States   country united states   COUNTRY UNITED STATES   ddd\n"
     ]
    }
   ],
   "source": [
    "head = [\"initcap\"]\n",
    "exprs = [initcap(concat(lit(\"country \"),col(\"country\")))]\n",
    "head += [\"lower\"]\n",
    "exprs += [lower(exprs[0])]\n",
    "head += [\"upper\"]\n",
    "exprs += [upper(exprs[0])]\n",
    "head += [\"lit\"]\n",
    "exprs += [lit(\"ddd\")]\n",
    "print(tabulate(df.select(*exprs).collect(), head))"
   ]
  },
  {
   "cell_type": "code",
   "execution_count": 217,
   "metadata": {},
   "outputs": [
    {
     "name": "stdout",
     "output_type": "stream",
     "text": [
      "lpad      rpad          ltrim         rtrim     trim      regexp         translate      extr\n",
      "--------  ------------  ------------  --------  --------  -------------  -------------  ------\n",
      "=ALGERIA  =ALGERIA====  ALGERIA====   =ALGERIA  ALGERIA   ALGERI-        _+GERI_        G\n",
      "=GERMANY  =GERMANY====  GERMANY====   =GERMANY  GERMANY   GERMANY        GERM_NY        R\n",
      "===INDIA  ===INDIA====  INDIA====     ===INDIA  INDIA     I-DI-          INDI_          D\n",
      "===JAPAN  ===JAPAN====  JAPAN====     ===JAPAN  JAPAN     JAPAN          J_P_N          P\n",
      "UNITED S  UNITED S====  UNITED=S====  UNITED=S  UNITED=S  UNI-ED STATES  UNITED ST_TES  I\n"
     ]
    }
   ],
   "source": [
    "clean = lambda fun: regexp_replace(fun(regexp_replace(exprs[1], \"=\", \" \")), \" \", \"=\")\n",
    "exprs = [lpad(col(\"country\"), 8, \"=\")]\n",
    "exprs += [rpad(exprs[0], 12, \"=\")]\n",
    "exprs += [clean(ltrim)]\n",
    "exprs += [clean(rtrim)]\n",
    "exprs += [clean(trim)]\n",
    "exprs += [regexp_replace(col(\"country\"), \"(I).\", \"$1-\")]\n",
    "exprs += [translate(col(\"country\"), \"AL\", \"_+\")]\n",
    "exprs += [regexp_extract(col(\"country\"), r\"(\\w)(\\w)(\\w)\", 3)]\n",
    "print(tabulate(df.sample(False, 0.1, 5).select(*exprs).collect(), [\"lpad\", \"rpad\", \"ltrim\", \"rtrim\", \"trim\", \"regexp\", \"translate\", \"extr\"]))"
   ]
  },
  {
   "cell_type": "code",
   "execution_count": 192,
   "metadata": {},
   "outputs": [
    {
     "name": "stdout",
     "output_type": "stream",
     "text": [
      "Help on function ltrim in module pyspark.sql.functions:\n",
      "\n",
      "ltrim(col)\n",
      "    Trim the spaces from left end for the specified string value.\n",
      "    \n",
      "    .. versionadded:: 1.5\n",
      "\n"
     ]
    }
   ],
   "source": [
    "help(ltrim)"
   ]
  },
  {
   "cell_type": "code",
   "execution_count": 218,
   "metadata": {},
   "outputs": [
    {
     "data": {
      "text/plain": [
       "Column<contains(country, A)>"
      ]
     },
     "execution_count": 218,
     "metadata": {},
     "output_type": "execute_result"
    }
   ],
   "source": [
    "col(\"country\").contains(\"A\")"
   ]
  },
  {
   "cell_type": "code",
   "execution_count": 219,
   "metadata": {},
   "outputs": [
    {
     "data": {
      "text/plain": [
       "Column<(instr(country, A) >= 1)>"
      ]
     },
     "execution_count": 219,
     "metadata": {},
     "output_type": "execute_result"
    }
   ],
   "source": [
    "instr(col(\"country\"),\"A\")"
   ]
  },
  {
   "cell_type": "code",
   "execution_count": 223,
   "metadata": {},
   "outputs": [
    {
     "name": "stdout",
     "output_type": "stream",
     "text": [
      "+----------+-----------------+---------------------+\n",
      "|   country|instr(country, A)|locate(A, country, 1)|\n",
      "+----------+-----------------+---------------------+\n",
      "|   ALGERIA|                1|                    1|\n",
      "| ARGENTINA|                1|                    1|\n",
      "|    BRAZIL|                3|                    3|\n",
      "|    CANADA|                2|                    2|\n",
      "|     EGYPT|                0|                    0|\n",
      "|  ETHIOPIA|                8|                    8|\n",
      "|    FRANCE|                3|                    3|\n",
      "|   GERMANY|                5|                    5|\n",
      "|     INDIA|                5|                    5|\n",
      "| INDONESIA|                9|                    9|\n",
      "|      IRAN|                3|                    3|\n",
      "|      IRAQ|                3|                    3|\n",
      "|     JAPAN|                2|                    2|\n",
      "|    JORDAN|                5|                    5|\n",
      "|     KENYA|                5|                    5|\n",
      "|   MOROCCO|                0|                    0|\n",
      "|MOZAMBIQUE|                4|                    4|\n",
      "|      PERU|                0|                    0|\n",
      "|     CHINA|                5|                    5|\n",
      "|   ROMANIA|                4|                    4|\n",
      "+----------+-----------------+---------------------+\n",
      "only showing top 20 rows\n",
      "\n"
     ]
    }
   ],
   "source": [
    "df.select(\"country\", instr(col(\"country\"),\"A\"), locate(\"A\",col(\"country\"))).show()"
   ]
  },
  {
   "cell_type": "code",
   "execution_count": null,
   "metadata": {},
   "outputs": [],
   "source": []
  }
 ],
 "metadata": {
  "kernelspec": {
   "display_name": "Python 2",
   "language": "python",
   "name": "python2"
  },
  "language_info": {
   "codemirror_mode": {
    "name": "ipython",
    "version": 2
   },
   "file_extension": ".py",
   "mimetype": "text/x-python",
   "name": "python",
   "nbconvert_exporter": "python",
   "pygments_lexer": "ipython2",
   "version": "2.7.12"
  }
 },
 "nbformat": 4,
 "nbformat_minor": 2
}

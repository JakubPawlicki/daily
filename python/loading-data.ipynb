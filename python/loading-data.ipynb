{
 "cells": [
  {
   "cell_type": "code",
   "execution_count": 1,
   "metadata": {},
   "outputs": [],
   "source": [
    "import os\n",
    "import sys\n",
    "\n",
    "os.environ[\"SPARK_HOME\"] = \"/opt/spark\"\n",
    "spark_home = os.environ.get('SPARK_HOME', None)\n",
    "sys.path.insert(0, os.path.join(spark_home, 'python'))\n",
    "sys.path.insert(0, os.path.join(spark_home, 'python/lib'))"
   ]
  },
  {
   "cell_type": "code",
   "execution_count": 2,
   "metadata": {},
   "outputs": [],
   "source": [
    "from pyspark.sql import SparkSession\n",
    "spark = SparkSession.builder.getOrCreate()"
   ]
  },
  {
   "cell_type": "code",
   "execution_count": 7,
   "metadata": {},
   "outputs": [
    {
     "ename": "KeyboardInterrupt",
     "evalue": "",
     "output_type": "error",
     "traceback": [
      "\u001b[0;31m---------------------------------------------------------------------------\u001b[0m",
      "\u001b[0;31mKeyboardInterrupt\u001b[0m                         Traceback (most recent call last)",
      "\u001b[0;32m<ipython-input-7-268e6c2569d4>\u001b[0m in \u001b[0;36m<module>\u001b[0;34m()\u001b[0m\n\u001b[0;32m----> 1\u001b[0;31m \u001b[0mspark\u001b[0m\u001b[0;34m.\u001b[0m\u001b[0mread\u001b[0m\u001b[0;34m.\u001b[0m\u001b[0mcsv\u001b[0m\u001b[0;34m(\u001b[0m\u001b[0;34m\"/home/orpington/Desktop/dbgen/tpch-100/*\"\u001b[0m\u001b[0;34m)\u001b[0m\u001b[0;34m.\u001b[0m\u001b[0mcount\u001b[0m\u001b[0;34m(\u001b[0m\u001b[0;34m)\u001b[0m\u001b[0;34m\u001b[0m\u001b[0m\n\u001b[0m",
      "\u001b[0;32m/opt/spark/python/lib/pyspark/sql/dataframe.pyc\u001b[0m in \u001b[0;36mcount\u001b[0;34m(self)\u001b[0m\n\u001b[1;32m    425\u001b[0m         \u001b[0;36m2\u001b[0m\u001b[0;34m\u001b[0m\u001b[0m\n\u001b[1;32m    426\u001b[0m         \"\"\"\n\u001b[0;32m--> 427\u001b[0;31m         \u001b[0;32mreturn\u001b[0m \u001b[0mint\u001b[0m\u001b[0;34m(\u001b[0m\u001b[0mself\u001b[0m\u001b[0;34m.\u001b[0m\u001b[0m_jdf\u001b[0m\u001b[0;34m.\u001b[0m\u001b[0mcount\u001b[0m\u001b[0;34m(\u001b[0m\u001b[0;34m)\u001b[0m\u001b[0;34m)\u001b[0m\u001b[0;34m\u001b[0m\u001b[0m\n\u001b[0m\u001b[1;32m    428\u001b[0m \u001b[0;34m\u001b[0m\u001b[0m\n\u001b[1;32m    429\u001b[0m     \u001b[0;34m@\u001b[0m\u001b[0mignore_unicode_prefix\u001b[0m\u001b[0;34m\u001b[0m\u001b[0m\n",
      "\u001b[0;32m/opt/spark/python/lib/py4j/java_gateway.pyc\u001b[0m in \u001b[0;36m__call__\u001b[0;34m(self, *args)\u001b[0m\n\u001b[1;32m   1129\u001b[0m             \u001b[0mproto\u001b[0m\u001b[0;34m.\u001b[0m\u001b[0mEND_COMMAND_PART\u001b[0m\u001b[0;34m\u001b[0m\u001b[0m\n\u001b[1;32m   1130\u001b[0m \u001b[0;34m\u001b[0m\u001b[0m\n\u001b[0;32m-> 1131\u001b[0;31m         \u001b[0manswer\u001b[0m \u001b[0;34m=\u001b[0m \u001b[0mself\u001b[0m\u001b[0;34m.\u001b[0m\u001b[0mgateway_client\u001b[0m\u001b[0;34m.\u001b[0m\u001b[0msend_command\u001b[0m\u001b[0;34m(\u001b[0m\u001b[0mcommand\u001b[0m\u001b[0;34m)\u001b[0m\u001b[0;34m\u001b[0m\u001b[0m\n\u001b[0m\u001b[1;32m   1132\u001b[0m         return_value = get_return_value(\n\u001b[1;32m   1133\u001b[0m             answer, self.gateway_client, self.target_id, self.name)\n",
      "\u001b[0;32m/opt/spark/python/lib/py4j/java_gateway.pyc\u001b[0m in \u001b[0;36msend_command\u001b[0;34m(self, command, retry, binary)\u001b[0m\n\u001b[1;32m    881\u001b[0m         \u001b[0mconnection\u001b[0m \u001b[0;34m=\u001b[0m \u001b[0mself\u001b[0m\u001b[0;34m.\u001b[0m\u001b[0m_get_connection\u001b[0m\u001b[0;34m(\u001b[0m\u001b[0;34m)\u001b[0m\u001b[0;34m\u001b[0m\u001b[0m\n\u001b[1;32m    882\u001b[0m         \u001b[0;32mtry\u001b[0m\u001b[0;34m:\u001b[0m\u001b[0;34m\u001b[0m\u001b[0m\n\u001b[0;32m--> 883\u001b[0;31m             \u001b[0mresponse\u001b[0m \u001b[0;34m=\u001b[0m \u001b[0mconnection\u001b[0m\u001b[0;34m.\u001b[0m\u001b[0msend_command\u001b[0m\u001b[0;34m(\u001b[0m\u001b[0mcommand\u001b[0m\u001b[0;34m)\u001b[0m\u001b[0;34m\u001b[0m\u001b[0m\n\u001b[0m\u001b[1;32m    884\u001b[0m             \u001b[0;32mif\u001b[0m \u001b[0mbinary\u001b[0m\u001b[0;34m:\u001b[0m\u001b[0;34m\u001b[0m\u001b[0m\n\u001b[1;32m    885\u001b[0m                 \u001b[0;32mreturn\u001b[0m \u001b[0mresponse\u001b[0m\u001b[0;34m,\u001b[0m \u001b[0mself\u001b[0m\u001b[0;34m.\u001b[0m\u001b[0m_create_connection_guard\u001b[0m\u001b[0;34m(\u001b[0m\u001b[0mconnection\u001b[0m\u001b[0;34m)\u001b[0m\u001b[0;34m\u001b[0m\u001b[0m\n",
      "\u001b[0;32m/opt/spark/python/lib/py4j/java_gateway.pyc\u001b[0m in \u001b[0;36msend_command\u001b[0;34m(self, command)\u001b[0m\n\u001b[1;32m   1026\u001b[0m \u001b[0;34m\u001b[0m\u001b[0m\n\u001b[1;32m   1027\u001b[0m         \u001b[0;32mtry\u001b[0m\u001b[0;34m:\u001b[0m\u001b[0;34m\u001b[0m\u001b[0m\n\u001b[0;32m-> 1028\u001b[0;31m             \u001b[0manswer\u001b[0m \u001b[0;34m=\u001b[0m \u001b[0msmart_decode\u001b[0m\u001b[0;34m(\u001b[0m\u001b[0mself\u001b[0m\u001b[0;34m.\u001b[0m\u001b[0mstream\u001b[0m\u001b[0;34m.\u001b[0m\u001b[0mreadline\u001b[0m\u001b[0;34m(\u001b[0m\u001b[0;34m)\u001b[0m\u001b[0;34m[\u001b[0m\u001b[0;34m:\u001b[0m\u001b[0;34m-\u001b[0m\u001b[0;36m1\u001b[0m\u001b[0;34m]\u001b[0m\u001b[0;34m)\u001b[0m\u001b[0;34m\u001b[0m\u001b[0m\n\u001b[0m\u001b[1;32m   1029\u001b[0m             \u001b[0mlogger\u001b[0m\u001b[0;34m.\u001b[0m\u001b[0mdebug\u001b[0m\u001b[0;34m(\u001b[0m\u001b[0;34m\"Answer received: {0}\"\u001b[0m\u001b[0;34m.\u001b[0m\u001b[0mformat\u001b[0m\u001b[0;34m(\u001b[0m\u001b[0manswer\u001b[0m\u001b[0;34m)\u001b[0m\u001b[0;34m)\u001b[0m\u001b[0;34m\u001b[0m\u001b[0m\n\u001b[1;32m   1030\u001b[0m             \u001b[0;32mif\u001b[0m \u001b[0manswer\u001b[0m\u001b[0;34m.\u001b[0m\u001b[0mstartswith\u001b[0m\u001b[0;34m(\u001b[0m\u001b[0mproto\u001b[0m\u001b[0;34m.\u001b[0m\u001b[0mRETURN_MESSAGE\u001b[0m\u001b[0;34m)\u001b[0m\u001b[0;34m:\u001b[0m\u001b[0;34m\u001b[0m\u001b[0m\n",
      "\u001b[0;32m/usr/lib/python2.7/socket.pyc\u001b[0m in \u001b[0;36mreadline\u001b[0;34m(self, size)\u001b[0m\n\u001b[1;32m    449\u001b[0m             \u001b[0;32mwhile\u001b[0m \u001b[0mTrue\u001b[0m\u001b[0;34m:\u001b[0m\u001b[0;34m\u001b[0m\u001b[0m\n\u001b[1;32m    450\u001b[0m                 \u001b[0;32mtry\u001b[0m\u001b[0;34m:\u001b[0m\u001b[0;34m\u001b[0m\u001b[0m\n\u001b[0;32m--> 451\u001b[0;31m                     \u001b[0mdata\u001b[0m \u001b[0;34m=\u001b[0m \u001b[0mself\u001b[0m\u001b[0;34m.\u001b[0m\u001b[0m_sock\u001b[0m\u001b[0;34m.\u001b[0m\u001b[0mrecv\u001b[0m\u001b[0;34m(\u001b[0m\u001b[0mself\u001b[0m\u001b[0;34m.\u001b[0m\u001b[0m_rbufsize\u001b[0m\u001b[0;34m)\u001b[0m\u001b[0;34m\u001b[0m\u001b[0m\n\u001b[0m\u001b[1;32m    452\u001b[0m                 \u001b[0;32mexcept\u001b[0m \u001b[0merror\u001b[0m\u001b[0;34m,\u001b[0m \u001b[0me\u001b[0m\u001b[0;34m:\u001b[0m\u001b[0;34m\u001b[0m\u001b[0m\n\u001b[1;32m    453\u001b[0m                     \u001b[0;32mif\u001b[0m \u001b[0me\u001b[0m\u001b[0;34m.\u001b[0m\u001b[0margs\u001b[0m\u001b[0;34m[\u001b[0m\u001b[0;36m0\u001b[0m\u001b[0;34m]\u001b[0m \u001b[0;34m==\u001b[0m \u001b[0mEINTR\u001b[0m\u001b[0;34m:\u001b[0m\u001b[0;34m\u001b[0m\u001b[0m\n",
      "\u001b[0;31mKeyboardInterrupt\u001b[0m: "
     ]
    }
   ],
   "source": [
    "spark.read.csv(\"/home/orpington/Desktop/dbgen/tpch-100/*\").count()"
   ]
  },
  {
   "cell_type": "code",
   "execution_count": 3,
   "metadata": {},
   "outputs": [],
   "source": [
    "s = \"\"\"\n",
    "CREATE TABLE [dbo].[CUSTOMER](\n",
    "\t[C_CUSTKEY] [int] NOT NULL,\n",
    "\t[C_NAME] [varchar](25) NOT NULL,\n",
    "\t[C_ADDRESS] [varchar](40) NOT NULL,\n",
    "\t[C_NATIONKEY] [int] NOT NULL,\n",
    "\t[C_PHONE] [char](15) NOT NULL,\n",
    "\t[C_ACCTBAL] [decimal](15, 2) NOT NULL,\n",
    "\t[C_MKTSEGMENT] [char](10) NOT NULL,\n",
    "\t[C_COMMENT] [varchar](117) NOT NULL\n",
    ");\n",
    "GO\n",
    "CREATE TABLE [dbo].[LINEITEM](\n",
    "\t[L_ORDERKEY] [int] NOT NULL,\n",
    "\t[L_PARTKEY] [int] NOT NULL,\n",
    "\t[L_SUPPKEY] [int] NOT NULL,\n",
    "\t[L_LINENUMBER] [int] NOT NULL,\n",
    "\t[L_QUANTITY] [decimal](15, 2) NOT NULL,\n",
    "\t[L_EXTENDEDPRICE] [decimal](15, 2) NOT NULL,\n",
    "\t[L_DISCOUNT] [decimal](15, 2) NOT NULL,\n",
    "\t[L_TAX] [decimal](15, 2) NOT NULL,\n",
    "\t[L_RETURNFLAG] [char](1) NOT NULL,\n",
    "\t[L_LINESTATUS] [char](1) NOT NULL,\n",
    "\t[L_SHIPDATE] [date] NOT NULL,\n",
    "\t[L_COMMITDATE] [date] NOT NULL,\n",
    "\t[L_RECEIPTDATE] [date] NOT NULL,\n",
    "\t[L_SHIPINSTRUCT] [char](25) NOT NULL,\n",
    "\t[L_SHIPMODE] [char](10) NOT NULL,\n",
    "\t[L_COMMENT] [varchar](44) NOT NULL\n",
    ");\n",
    "GO\n",
    "CREATE TABLE [dbo].[NATION](\n",
    "\t[N_NATIONKEY] [int] NOT NULL,\n",
    "\t[N_NAME] [char](25) NOT NULL,\n",
    "\t[N_REGIONKEY] [int] NOT NULL,\n",
    "\t[N_COMMENT] [varchar](152) NULL\n",
    ");\n",
    "GO\n",
    "CREATE TABLE [dbo].[ORDERS](\n",
    "\t[O_ORDERKEY] [int] NOT NULL,\n",
    "\t[O_CUSTKEY] [int] NOT NULL,\n",
    "\t[O_ORDERSTATUS] [char](1) NOT NULL,\n",
    "\t[O_TOTALPRICE] [decimal](15, 2) NOT NULL,\n",
    "\t[O_ORDERDATE] [date] NOT NULL,\n",
    "\t[O_ORDERPRIORITY] [char](15) NOT NULL,\n",
    "\t[O_CLERK] [char](15) NOT NULL,\n",
    "\t[O_SHIPPRIORITY] [int] NOT NULL,\n",
    "\t[O_COMMENT] [varchar](79) NOT NULL\n",
    ");\n",
    "GO\n",
    "CREATE TABLE [dbo].[PART](\n",
    "\t[P_PARTKEY] [int] NOT NULL,\n",
    "\t[P_NAME] [varchar](55) NOT NULL,\n",
    "\t[P_MFGR] [char](25) NOT NULL,\n",
    "\t[P_BRAND] [char](10) NOT NULL,\n",
    "\t[P_TYPE] [varchar](25) NOT NULL,\n",
    "\t[P_SIZE] [int] NOT NULL,\n",
    "\t[P_CONTAINER] [char](10) NOT NULL,\n",
    "\t[P_RETAILPRICE] [decimal](15, 2) NOT NULL,\n",
    "\t[P_COMMENT] [varchar](23) NOT NULL\n",
    ");\n",
    "GO\n",
    "CREATE TABLE [dbo].[PARTSUPP](\n",
    "\t[PS_PARTKEY] [int] NOT NULL,\n",
    "\t[PS_SUPPKEY] [int] NOT NULL,\n",
    "\t[PS_AVAILQTY] [int] NOT NULL,\n",
    "\t[PS_SUPPLYCOST] [decimal](15, 2) NOT NULL,\n",
    "\t[PS_COMMENT] [varchar](199) NOT NULL\n",
    ");\n",
    "GO\n",
    "CREATE TABLE [dbo].[REGION](\n",
    "\t[R_REGIONKEY] [int] NOT NULL,\n",
    "\t[R_NAME] [char](25) NOT NULL,\n",
    "\t[R_COMMENT] [varchar](152) NULL\n",
    ");\n",
    "GO\n",
    "CREATE TABLE [dbo].[SUPPLIER](\n",
    "\t[S_SUPPKEY] [int] NOT NULL,\n",
    "\t[S_NAME] [char](25) NOT NULL,\n",
    "\t[S_ADDRESS] [varchar](40) NOT NULL,\n",
    "\t[S_NATIONKEY] [int] NOT NULL,\n",
    "\t[S_PHONE] [char](15) NOT NULL,\n",
    "\t[S_ACCTBAL] [decimal](15, 2) NOT NULL,\n",
    "\t[S_COMMENT] [varchar](101) NOT NULL\n",
    ");\n",
    "GO\n",
    "\"\"\""
   ]
  },
  {
   "cell_type": "code",
   "execution_count": 53,
   "metadata": {},
   "outputs": [],
   "source": [
    "splt = s.split(\"GO\")[0]"
   ]
  },
  {
   "cell_type": "code",
   "execution_count": 55,
   "metadata": {
    "scrolled": true
   },
   "outputs": [
    {
     "name": "stdout",
     "output_type": "stream",
     "text": [
      "\n",
      "CREATE TABLE [dbo].[CUSTOMER](\n",
      "\t[C_CUSTKEY] [int] NOT NULL,\n",
      "\t[C_NAME] [varchar](25) NOT NULL,\n",
      "\t[C_ADDRESS] [varchar](40) NOT NULL,\n",
      "\t[C_NATIONKEY] [int] NOT NULL,\n",
      "\t[C_PHONE] [char](15) NOT NULL,\n",
      "\t[C_ACCTBAL] [decimal](15, 2) NOT NULL,\n",
      "\t[C_MKTSEGMENT] [char](10) NOT NULL,\n",
      "\t[C_COMMENT] [varchar](117) NOT NULL\n",
      ");\n",
      "\n"
     ]
    }
   ],
   "source": [
    "print(splt)"
   ]
  },
  {
   "cell_type": "code",
   "execution_count": 56,
   "metadata": {},
   "outputs": [
    {
     "data": {
      "text/plain": [
       "'[CUSTOMER]('"
      ]
     },
     "execution_count": 56,
     "metadata": {},
     "output_type": "execute_result"
    }
   ],
   "source": [
    "import re\n",
    "re.search(r\"[\\[][^\\]]*[\\]][(]\", splt).group(0)"
   ]
  },
  {
   "cell_type": "code",
   "execution_count": 57,
   "metadata": {},
   "outputs": [
    {
     "data": {
      "text/plain": [
       "'25) NOT NULL,'"
      ]
     },
     "execution_count": 57,
     "metadata": {},
     "output_type": "execute_result"
    }
   ],
   "source": [
    "re.search(r\"(?<=[\\]][(]).+\", splt).group(0)"
   ]
  },
  {
   "cell_type": "code",
   "execution_count": 63,
   "metadata": {},
   "outputs": [
    {
     "data": {
      "text/plain": [
       "'CUSTOMER]('"
      ]
     },
     "execution_count": 63,
     "metadata": {},
     "output_type": "execute_result"
    }
   ],
   "source": [
    "re.search(r\"[^\\]\\[]*\\]\\(\", splt).group(0)"
   ]
  },
  {
   "cell_type": "code",
   "execution_count": 71,
   "metadata": {},
   "outputs": [
    {
     "data": {
      "text/plain": [
       "'CUSTOMER'"
      ]
     },
     "execution_count": 71,
     "metadata": {},
     "output_type": "execute_result"
    }
   ],
   "source": [
    "name_find = r\"[^\\]\\[]+(?=\\]\\()\"\n",
    "re.search(name_find, splt).group(0)"
   ]
  },
  {
   "cell_type": "code",
   "execution_count": 72,
   "metadata": {},
   "outputs": [
    {
     "data": {
      "text/plain": [
       "['\\nCREATE TABLE [dbo].[CUSTOMER](\\n\\t[C_CUSTKEY] [int] NOT NULL',\n",
       " '\\n\\t[C_NAME] [varchar](25) NOT NULL',\n",
       " '\\n\\t[C_ADDRESS] [varchar](40) NOT NULL',\n",
       " '\\n\\t[C_NATIONKEY] [int] NOT NULL',\n",
       " '\\n\\t[C_PHONE] [char](15) NOT NULL',\n",
       " '\\n\\t[C_ACCTBAL] [decimal](15',\n",
       " ' 2) NOT NULL',\n",
       " '\\n\\t[C_MKTSEGMENT] [char](10) NOT NULL',\n",
       " '\\n\\t[C_COMMENT] [varchar](117) NOT NULL\\n);\\n']"
      ]
     },
     "execution_count": 72,
     "metadata": {},
     "output_type": "execute_result"
    }
   ],
   "source": [
    "splt.split(\",\")"
   ]
  },
  {
   "cell_type": "code",
   "execution_count": 77,
   "metadata": {},
   "outputs": [
    {
     "name": "stdout",
     "output_type": "stream",
     "text": [
      "C_CUSTKEY\n",
      "C_NAME\n",
      "C_ADDRESS\n",
      "C_NATIONKEY\n",
      "C_PHONE\n",
      "C_ACCTBAL\n",
      "C_MKTSEGMENT\n",
      "C_COMMENT\n"
     ]
    }
   ],
   "source": [
    "for line in re.split(r\"\\n\\t\\[\", splt)[1:]:\n",
    "    print(line.split(\"]\")[0])"
   ]
  },
  {
   "cell_type": "code",
   "execution_count": 5,
   "metadata": {},
   "outputs": [],
   "source": [
    "#https://pymotw.com/2/collections/counter.html\n",
    "import re\n",
    "from collections import Counter\n",
    "counter = Counter()\n",
    "\n",
    "with open(\"/home/orpington/Desktop/dbgen/schema.csv\", \"w\") as f:\n",
    "    for table_schema in s.split(\"GO\"):\n",
    "        table = re.search(r\"[^\\]\\[]+(?=\\]\\()\", table_schema)\n",
    "        if table:\n",
    "            table_name = table.group(0)\n",
    "            for line in re.split(r\"\\n\\t\\[\", table_schema)[1:]:\n",
    "                counter.update([table_name])\n",
    "                f.write(\"{},{},{}\\n\".format(\n",
    "                                            counter[table_name], \n",
    "                                            table_name, \n",
    "                                            line.split(\"]\")[0].split(\"_\")[1]))"
   ]
  },
  {
   "cell_type": "code",
   "execution_count": 99,
   "metadata": {},
   "outputs": [
    {
     "name": "stdout",
     "output_type": "stream",
     "text": [
      "['1,CUSTOMER,CUSTKEY\\n', '2,CUSTOMER,NAME\\n', '3,CUSTOMER,ADDRESS\\n', '4,CUSTOMER,NATIONKEY\\n', '5,CUSTOMER,PHONE\\n', '6,CUSTOMER,ACCTBAL\\n', '7,CUSTOMER,MKTSEGMENT\\n', '8,CUSTOMER,COMMENT\\n', '1,LINEITEM,ORDERKEY\\n', '2,LINEITEM,PARTKEY\\n', '3,LINEITEM,SUPPKEY\\n', '4,LINEITEM,LINENUMBER\\n', '5,LINEITEM,QUANTITY\\n', '6,LINEITEM,EXTENDEDPRICE\\n', '7,LINEITEM,DISCOUNT\\n', '8,LINEITEM,TAX\\n', '9,LINEITEM,RETURNFLAG\\n', '10,LINEITEM,LINESTATUS\\n', '11,LINEITEM,SHIPDATE\\n', '12,LINEITEM,COMMITDATE\\n', '13,LINEITEM,RECEIPTDATE\\n', '14,LINEITEM,SHIPINSTRUCT\\n', '15,LINEITEM,SHIPMODE\\n', '16,LINEITEM,COMMENT\\n', '1,NATION,NATIONKEY\\n', '2,NATION,NAME\\n', '3,NATION,REGIONKEY\\n', '4,NATION,COMMENT\\n', '1,ORDERS,ORDERKEY\\n', '2,ORDERS,CUSTKEY\\n', '3,ORDERS,ORDERSTATUS\\n', '4,ORDERS,TOTALPRICE\\n', '5,ORDERS,ORDERDATE\\n', '6,ORDERS,ORDERPRIORITY\\n', '7,ORDERS,CLERK\\n', '8,ORDERS,SHIPPRIORITY\\n', '9,ORDERS,COMMENT\\n', '1,PART,PARTKEY\\n', '2,PART,NAME\\n', '3,PART,MFGR\\n', '4,PART,BRAND\\n', '5,PART,TYPE\\n', '6,PART,SIZE\\n', '7,PART,CONTAINER\\n', '8,PART,RETAILPRICE\\n', '9,PART,COMMENT\\n', '1,PARTSUPP,PARTKEY\\n', '2,PARTSUPP,SUPPKEY\\n', '3,PARTSUPP,AVAILQTY\\n', '4,PARTSUPP,SUPPLYCOST\\n', '5,PARTSUPP,COMMENT\\n', '1,REGION,REGIONKEY\\n', '2,REGION,NAME\\n', '3,REGION,COMMENT\\n', '1,SUPPLIER,SUPPKEY\\n', '2,SUPPLIER,NAME\\n', '3,SUPPLIER,ADDRESS\\n', '4,SUPPLIER,NATIONKEY\\n', '5,SUPPLIER,PHONE\\n', '6,SUPPLIER,ACCTBAL\\n', '7,SUPPLIER,COMMENT\\n']\n"
     ]
    }
   ],
   "source": [
    "f = open(\"/home/orpington/Desktop/dbgen/schema.csv\", \"r\")\n",
    "print(repr(f.readlines()))\n",
    "f.close()"
   ]
  },
  {
   "cell_type": "code",
   "execution_count": 29,
   "metadata": {},
   "outputs": [
    {
     "data": {
      "text/plain": [
       "StructType(List(StructField(ORDERKEY,StringType,false),StructField(PARTKEY,StringType,false),StructField(SUPPKEY,StringType,false),StructField(LINENUMBER,StringType,false),StructField(QUANTITY,StringType,false),StructField(EXTENDEDPRICE,StringType,false),StructField(DISCOUNT,StringType,false),StructField(TAX,StringType,false),StructField(RETURNFLAG,StringType,false),StructField(LINESTATUS,StringType,false),StructField(SHIPDATE,StringType,false),StructField(COMMITDATE,StringType,false),StructField(RECEIPTDATE,StringType,false),StructField(SHIPINSTRUCT,StringType,false),StructField(SHIPMODE,StringType,false),StructField(COMMENT,StringType,false)))"
      ]
     },
     "execution_count": 29,
     "metadata": {},
     "output_type": "execute_result"
    }
   ],
   "source": [
    "from pyspark.sql.functions import col\n",
    "from pyspark.sql.types import StructType, StructField, StringType\n",
    "\n",
    "csv_schema = spark.read\\\n",
    "                   .csv(\"/home/orpington/Desktop/dbgen/schema.csv\")\\\n",
    "                   .where(col(\"_c1\") == \"LINEITEM\")\\\n",
    "                   .rdd\\\n",
    "                   .map(lambda row: StructField(row[2], StringType(), False))\\\n",
    "                   .collect()\n",
    "StructType(csv_schema)"
   ]
  },
  {
   "cell_type": "code",
   "execution_count": 28,
   "metadata": {},
   "outputs": [
    {
     "name": "stdout",
     "output_type": "stream",
     "text": [
      "+---+------+----+---+---+--------+----+----+---+---+----------+----------+----------+-----------------+-------+--------------------+----+\n",
      "|_c0|   _c1| _c2|_c3|_c4|     _c5| _c6| _c7|_c8|_c9|      _c10|      _c11|      _c12|             _c13|   _c14|                _c15|_c16|\n",
      "+---+------+----+---+---+--------+----+----+---+---+----------+----------+----------+-----------------+-------+--------------------+----+\n",
      "|  1|155190|7706|  1| 17|21168.23|0.04|0.02|  N|  O|1996-03-13|1996-02-12|1996-03-22|DELIVER IN PERSON|  TRUCK|egular courts abo...|null|\n",
      "|  1| 67310|7311|  2| 36|45983.16|0.09|0.06|  N|  O|1996-04-12|1996-02-28|1996-04-20| TAKE BACK RETURN|   MAIL|ly final dependen...|null|\n",
      "|  1| 63700|3701|  3|  8|13309.60|0.10|0.02|  N|  O|1996-01-29|1996-03-05|1996-01-31| TAKE BACK RETURN|REG AIR|riously. regular,...|null|\n",
      "|  1|  2132|4633|  4| 28|28955.64|0.09|0.06|  N|  O|1996-04-21|1996-03-30|1996-05-16|             NONE|    AIR|lites. fluffily e...|null|\n",
      "|  1| 24027|1534|  5| 24|22824.48|0.10|0.04|  N|  O|1996-03-30|1996-03-14|1996-04-01|             NONE|    FOB| pending foxes. s...|null|\n",
      "|  1| 15635| 638|  6| 32|49620.16|0.07|0.02|  N|  O|1996-01-30|1996-02-07|1996-02-03|DELIVER IN PERSON|   MAIL|   arefully slyly ex|null|\n",
      "|  2|106170|1191|  1| 38|44694.46|0.00|0.05|  N|  O|1997-01-28|1997-01-14|1997-02-02| TAKE BACK RETURN|   RAIL|ven requests. dep...|null|\n",
      "|  3|  4297|1798|  1| 45|54058.05|0.06|0.00|  R|  F|1994-02-02|1994-01-04|1994-02-23|             NONE|    AIR|ongside of the fu...|null|\n",
      "|  3| 19036|6540|  2| 49|46796.47|0.10|0.00|  R|  F|1993-11-09|1993-12-20|1993-11-24| TAKE BACK RETURN|   RAIL| unusual accounts...|null|\n",
      "|  3|128449|3474|  3| 27|39890.88|0.06|0.07|  A|  F|1994-01-16|1993-11-22|1994-01-23|DELIVER IN PERSON|   SHIP|    nal foxes wake. |null|\n",
      "|  3| 29380|1883|  4|  2| 2618.76|0.01|0.06|  A|  F|1993-12-04|1994-01-07|1994-01-01|             NONE|  TRUCK|y. fluffily pendi...|null|\n",
      "|  3|183095| 650|  5| 28|32986.52|0.04|0.00|  R|  F|1993-12-14|1994-01-10|1994-01-01| TAKE BACK RETURN|    FOB|ages nag slyly pe...|null|\n",
      "|  3| 62143|9662|  6| 26|28733.64|0.10|0.02|  A|  F|1993-10-29|1993-12-18|1993-11-04| TAKE BACK RETURN|   RAIL|ges sleep after t...|null|\n",
      "|  4| 88035|5560|  1| 30|30690.90|0.03|0.08|  N|  O|1996-01-10|1995-12-14|1996-01-18|DELIVER IN PERSON|REG AIR|- quickly regular...|null|\n",
      "|  5|108570|8571|  1| 15|23678.55|0.02|0.04|  R|  F|1994-10-31|1994-08-31|1994-11-20|             NONE|    AIR|  ts wake furiously |null|\n",
      "|  5|123927|3928|  2| 26|50723.92|0.07|0.08|  R|  F|1994-10-16|1994-09-25|1994-10-19|             NONE|    FOB|sts use slyly qui...|null|\n",
      "|  5| 37531|  35|  3| 50|73426.50|0.08|0.03|  A|  F|1994-08-08|1994-10-13|1994-08-26|DELIVER IN PERSON|    AIR|eodolites. fluffi...|null|\n",
      "|  6|139636|2150|  1| 37|61998.31|0.08|0.03|  A|  F|1992-04-27|1992-05-15|1992-05-02| TAKE BACK RETURN|  TRUCK|p furiously speci...|null|\n",
      "|  7|182052|9607|  1| 12|13608.60|0.07|0.03|  N|  O|1996-05-07|1996-03-13|1996-06-03| TAKE BACK RETURN|    FOB|ss pinto beans wa...|null|\n",
      "|  7|145243|7758|  2|  9|11594.16|0.08|0.08|  N|  O|1996-02-01|1996-03-02|1996-02-19| TAKE BACK RETURN|   SHIP|    es. instructions|null|\n",
      "+---+------+----+---+---+--------+----+----+---+---+----------+----------+----------+-----------------+-------+--------------------+----+\n",
      "only showing top 20 rows\n",
      "\n"
     ]
    }
   ],
   "source": [
    "data = spark.read\\\n",
    "            .format(\"csv\")\\\n",
    "            .option(\"schema\", StructType(csv_schema))\\\n",
    "            .option(\"sep\", \"|\")\\\n",
    "            .load(\"/home/orpington/Desktop/dbgen/tpch-1/lineitem.tbl\")\n",
    "\n",
    "data.show()"
   ]
  },
  {
   "cell_type": "code",
   "execution_count": 30,
   "metadata": {},
   "outputs": [
    {
     "name": "stdout",
     "output_type": "stream",
     "text": [
      "+--------+-------+-------+----------+--------+-------------+--------+----+----------+----------+----------+----------+-----------+-----------------+--------+--------------------+\n",
      "|ORDERKEY|PARTKEY|SUPPKEY|LINENUMBER|QUANTITY|EXTENDEDPRICE|DISCOUNT| TAX|RETURNFLAG|LINESTATUS|  SHIPDATE|COMMITDATE|RECEIPTDATE|     SHIPINSTRUCT|SHIPMODE|             COMMENT|\n",
      "+--------+-------+-------+----------+--------+-------------+--------+----+----------+----------+----------+----------+-----------+-----------------+--------+--------------------+\n",
      "|       1| 155190|   7706|         1|      17|     21168.23|    0.04|0.02|         N|         O|1996-03-13|1996-02-12| 1996-03-22|DELIVER IN PERSON|   TRUCK|egular courts abo...|\n",
      "|       1|  67310|   7311|         2|      36|     45983.16|    0.09|0.06|         N|         O|1996-04-12|1996-02-28| 1996-04-20| TAKE BACK RETURN|    MAIL|ly final dependen...|\n",
      "|       1|  63700|   3701|         3|       8|     13309.60|    0.10|0.02|         N|         O|1996-01-29|1996-03-05| 1996-01-31| TAKE BACK RETURN| REG AIR|riously. regular,...|\n",
      "|       1|   2132|   4633|         4|      28|     28955.64|    0.09|0.06|         N|         O|1996-04-21|1996-03-30| 1996-05-16|             NONE|     AIR|lites. fluffily e...|\n",
      "|       1|  24027|   1534|         5|      24|     22824.48|    0.10|0.04|         N|         O|1996-03-30|1996-03-14| 1996-04-01|             NONE|     FOB| pending foxes. s...|\n",
      "|       1|  15635|    638|         6|      32|     49620.16|    0.07|0.02|         N|         O|1996-01-30|1996-02-07| 1996-02-03|DELIVER IN PERSON|    MAIL|   arefully slyly ex|\n",
      "|       2| 106170|   1191|         1|      38|     44694.46|    0.00|0.05|         N|         O|1997-01-28|1997-01-14| 1997-02-02| TAKE BACK RETURN|    RAIL|ven requests. dep...|\n",
      "|       3|   4297|   1798|         1|      45|     54058.05|    0.06|0.00|         R|         F|1994-02-02|1994-01-04| 1994-02-23|             NONE|     AIR|ongside of the fu...|\n",
      "|       3|  19036|   6540|         2|      49|     46796.47|    0.10|0.00|         R|         F|1993-11-09|1993-12-20| 1993-11-24| TAKE BACK RETURN|    RAIL| unusual accounts...|\n",
      "|       3| 128449|   3474|         3|      27|     39890.88|    0.06|0.07|         A|         F|1994-01-16|1993-11-22| 1994-01-23|DELIVER IN PERSON|    SHIP|    nal foxes wake. |\n",
      "|       3|  29380|   1883|         4|       2|      2618.76|    0.01|0.06|         A|         F|1993-12-04|1994-01-07| 1994-01-01|             NONE|   TRUCK|y. fluffily pendi...|\n",
      "|       3| 183095|    650|         5|      28|     32986.52|    0.04|0.00|         R|         F|1993-12-14|1994-01-10| 1994-01-01| TAKE BACK RETURN|     FOB|ages nag slyly pe...|\n",
      "|       3|  62143|   9662|         6|      26|     28733.64|    0.10|0.02|         A|         F|1993-10-29|1993-12-18| 1993-11-04| TAKE BACK RETURN|    RAIL|ges sleep after t...|\n",
      "|       4|  88035|   5560|         1|      30|     30690.90|    0.03|0.08|         N|         O|1996-01-10|1995-12-14| 1996-01-18|DELIVER IN PERSON| REG AIR|- quickly regular...|\n",
      "|       5| 108570|   8571|         1|      15|     23678.55|    0.02|0.04|         R|         F|1994-10-31|1994-08-31| 1994-11-20|             NONE|     AIR|  ts wake furiously |\n",
      "|       5| 123927|   3928|         2|      26|     50723.92|    0.07|0.08|         R|         F|1994-10-16|1994-09-25| 1994-10-19|             NONE|     FOB|sts use slyly qui...|\n",
      "|       5|  37531|     35|         3|      50|     73426.50|    0.08|0.03|         A|         F|1994-08-08|1994-10-13| 1994-08-26|DELIVER IN PERSON|     AIR|eodolites. fluffi...|\n",
      "|       6| 139636|   2150|         1|      37|     61998.31|    0.08|0.03|         A|         F|1992-04-27|1992-05-15| 1992-05-02| TAKE BACK RETURN|   TRUCK|p furiously speci...|\n",
      "|       7| 182052|   9607|         1|      12|     13608.60|    0.07|0.03|         N|         O|1996-05-07|1996-03-13| 1996-06-03| TAKE BACK RETURN|     FOB|ss pinto beans wa...|\n",
      "|       7| 145243|   7758|         2|       9|     11594.16|    0.08|0.08|         N|         O|1996-02-01|1996-03-02| 1996-02-19| TAKE BACK RETURN|    SHIP|    es. instructions|\n",
      "+--------+-------+-------+----------+--------+-------------+--------+----+----------+----------+----------+----------+-----------+-----------------+--------+--------------------+\n",
      "only showing top 20 rows\n",
      "\n"
     ]
    }
   ],
   "source": [
    "data = spark.read\\\n",
    "            .csv(\"/home/orpington/Desktop/dbgen/tpch-1/lineitem.tbl\", \n",
    "                 schema=StructType(csv_schema),\n",
    "                 sep=\"|\"\n",
    "                )\n",
    "\n",
    "data.show()"
   ]
  },
  {
   "cell_type": "code",
   "execution_count": 31,
   "metadata": {},
   "outputs": [
    {
     "data": {
      "text/plain": [
       "6001215"
      ]
     },
     "execution_count": 31,
     "metadata": {},
     "output_type": "execute_result"
    }
   ],
   "source": [
    "data.count()"
   ]
  },
  {
   "cell_type": "code",
   "execution_count": 47,
   "metadata": {
    "scrolled": false
   },
   "outputs": [
    {
     "name": "stdout",
     "output_type": "stream",
     "text": [
      "+--------------------------------------------------------+-------+\n",
      "|input_file_name()                                       |count  |\n",
      "+--------------------------------------------------------+-------+\n",
      "|file:///home/orpington/Desktop/dbgen/tpch-1/lineitem.tbl|6001215|\n",
      "|file:///home/orpington/Desktop/dbgen/tpch-1/customer.tbl|150000 |\n",
      "|file:///home/orpington/Desktop/dbgen/tpch-1/supplier.tbl|10000  |\n",
      "|file:///home/orpington/Desktop/dbgen/tpch-1/partsupp.tbl|800000 |\n",
      "|file:///home/orpington/Desktop/dbgen/tpch-1/nation.tbl  |25     |\n",
      "|file:///home/orpington/Desktop/dbgen/tpch-1/region.tbl  |5      |\n",
      "|file:///home/orpington/Desktop/dbgen/tpch-1/part.tbl    |200000 |\n",
      "|file:///home/orpington/Desktop/dbgen/tpch-1/orders.tbl  |1500000|\n",
      "+--------------------------------------------------------+-------+\n",
      "\n"
     ]
    }
   ],
   "source": [
    "from pyspark.sql.functions import input_file_name, regexp_extract\n",
    "data = spark.read\\\n",
    "            .csv(\"/home/orpington/Desktop/dbgen/tpch-1/*.tbl\")\\\n",
    "            .groupby(input_file_name())\\\n",
    "            .count()\n",
    "data.show(20, False)"
   ]
  },
  {
   "cell_type": "code",
   "execution_count": 60,
   "metadata": {
    "scrolled": true
   },
   "outputs": [
    {
     "name": "stdout",
     "output_type": "stream",
     "text": [
      "+------------+-------+\n",
      "|table       |count  |\n",
      "+------------+-------+\n",
      "|lineitem.tbl|6001215|\n",
      "|nation.tbl  |25     |\n",
      "|supplier.tbl|10000  |\n",
      "|customer.tbl|150000 |\n",
      "|orders.tbl  |1500000|\n",
      "|region.tbl  |5      |\n",
      "|part.tbl    |200000 |\n",
      "|partsupp.tbl|800000 |\n",
      "+------------+-------+\n",
      "\n"
     ]
    }
   ],
   "source": [
    "from pyspark.sql.functions import input_file_name, split, reverse, size\n",
    "data = spark.read\\\n",
    "            .csv(\"/home/orpington/Desktop/dbgen/tpch-1/*.tbl\")\\\n",
    "            .withColumn(\"split\", split(input_file_name(), r\"/\"))\\\n",
    "            .groupby(col(\"split\")[size(col(\"split\")) - 1].alias(\"table\"))\\\n",
    "            .count()\n",
    "\n",
    "data.show(20, False)"
   ]
  },
  {
   "cell_type": "code",
   "execution_count": 65,
   "metadata": {},
   "outputs": [
    {
     "name": "stdout",
     "output_type": "stream",
     "text": [
      "+--------------------+-----------+--------------------+----+\n",
      "|                 _c0|        _c1|                 _c2| _c3|\n",
      "+--------------------+-----------+--------------------+----+\n",
      "|                   0|     AFRICA|lar deposits. bli...|null|\n",
      "|                   1|    AMERICA|hs use ironic, ev...|null|\n",
      "|                   2|       ASIA|ges. thinly even ...|null|\n",
      "|                   3|     EUROPE|ly final courts c...|null|\n",
      "|                   4|MIDDLE EAST|uickly special ac...|null|\n",
      "|fdfdf bad rcrdssdssd|       null|                null|null|\n",
      "+--------------------+-----------+--------------------+----+\n",
      "\n"
     ]
    }
   ],
   "source": [
    "csv = spark.read.option(\"sep\", \"|\")\\\n",
    "                .format(\"csv\")\\\n",
    "                .option(\"mode\", \"PERMISSIVE\")\\\n",
    "                .load(\"/home/orpington/Desktop/dbgen/tpch-1/region_bad.tbl\")\n",
    "csv.show()"
   ]
  },
  {
   "cell_type": "code",
   "execution_count": 71,
   "metadata": {},
   "outputs": [
    {
     "name": "stdout",
     "output_type": "stream",
     "text": [
      "error!\n"
     ]
    }
   ],
   "source": [
    "csv = spark.read.option(\"sep\", \"|\")\\\n",
    "            .format(\"csv\")\\\n",
    "            .option(\"mode\", \"FAILFAST\")\\\n",
    "            .load(\"/home/orpington/Desktop/dbgen/tpch-1/region_bad.tbl\")\n",
    "try:\n",
    "    csv.show()\n",
    "except:\n",
    "    print(\"error!\")"
   ]
  },
  {
   "cell_type": "code",
   "execution_count": 77,
   "metadata": {
    "scrolled": true
   },
   "outputs": [
    {
     "name": "stdout",
     "output_type": "stream",
     "text": [
      "+---+-----------+--------------------+----+\n",
      "|_c0|        _c1|                 _c2| _c3|\n",
      "+---+-----------+--------------------+----+\n",
      "|  0|     AFRICA|lar deposits. bli...|null|\n",
      "|  1|    AMERICA|hs use ironic, ev...|null|\n",
      "|  2|       ASIA|ges. thinly even ...|null|\n",
      "|  3|     EUROPE|ly final courts c...|null|\n",
      "|  4|MIDDLE EAST|uickly special ac...|null|\n",
      "+---+-----------+--------------------+----+\n",
      "\n"
     ]
    }
   ],
   "source": [
    "csv = spark.read.option(\"sep\", \"|\")\\\n",
    "                .format(\"csv\")\\\n",
    "                .option(\"mode\", \"DROPMALFORMED\")\\\n",
    "                .load(\"/home/orpington/Desktop/dbgen/tpch-1/region_bad.tbl\")\n",
    "csv.show()"
   ]
  },
  {
   "cell_type": "code",
   "execution_count": 89,
   "metadata": {},
   "outputs": [
    {
     "name": "stdout",
     "output_type": "stream",
     "text": [
      "+--------------------+--------------------+\n",
      "|                 _c0|                 _c1|\n",
      "+--------------------+--------------------+\n",
      "|          PAR1\u0015\u0000\u0015>\u0015@|                   \u0015|\n",
      "|\u0015\u0000\u0015\u0006\u0015\b\u001c",
      "\u0018\u00014\u0018\u00010\u0016\u0000\u0000\u0000...|                   \u0015|\n",
      "|\u0015\u0000\u0015\u0006\u0015\b\u001c",
      "\u0018\u000b",
      "MIDDLE E...|                null|\n",
      "|\u0004ME\u0001\u000b",
      "\u0000\u0004\u0001\u000b",
      "\bSIA\u0001\u001d",
      "PE...|                   \u0015|\n",
      "|\u0015\u0000\u0015\u0006\u0015\b\u001c",
      "\u0018luickly s...|                null|\n",
      "|        #\u0018account\t%\u0001|                null|\n",
      "||rding to \u001f\u0000\u0000\u0000hs ...| even\u001d",
      "D\u0000s\u0001#(ges. ...|\n",
      "|           �\u0010court\u0001\u0016|jole furious\u0015\u001e",
      "\\ex...|\n",
      "|            \u0015\u0000\u0015\u0006\u0015\b\u001c",
      "6|                null|\n",
      "|\u0019\u001c",
      "\u0019L&\b\u001c",
      "\u0015\f",
      "\u00195\b\u0006\u0000\u0019\u0018\u0003...|                null|\n",
      "|\u0016t\u0016v&\b<\u0018\u00014\u0018\u00010\u0016\u0000\u0000\u0019...|                null|\n",
      "|\u0016�\u0001\u0016�\u0001&~<\u0018\u000b",
      "MIDDLE...|                null|\n",
      "|\u0016�\b\u0016�\u0007&�\u0002<\u0018luickl...|                null|\n",
      "|           \u00166\u0016:&�\t<6|                null|\n",
      "|                   0|              AFRICA|\n",
      "|                   1|             AMERICA|\n",
      "|                   2|                ASIA|\n",
      "|                   3|              EUROPE|\n",
      "|                   4|         MIDDLE EAST|\n",
      "|                   0|              AFRICA|\n",
      "+--------------------+--------------------+\n",
      "only showing top 20 rows\n",
      "\n"
     ]
    }
   ],
   "source": [
    "for _ in range(10):\n",
    "    csv.write.csv(\"/tmp/herp2.txt\", mode=\"append\")\n",
    "\n",
    "spark.read.csv(\"/tmp/herp2.txt\").show()"
   ]
  },
  {
   "cell_type": "code",
   "execution_count": 90,
   "metadata": {},
   "outputs": [
    {
     "name": "stdout",
     "output_type": "stream",
     "text": [
      "+---+-----------+--------------------+----+\n",
      "|_c0|        _c1|                 _c2| _c3|\n",
      "+---+-----------+--------------------+----+\n",
      "|  0|     AFRICA|lar deposits. bli...|null|\n",
      "|  1|    AMERICA|hs use ironic, ev...|null|\n",
      "|  2|       ASIA|ges. thinly even ...|null|\n",
      "|  3|     EUROPE|ly final courts c...|null|\n",
      "|  4|MIDDLE EAST|uickly special ac...|null|\n",
      "+---+-----------+--------------------+----+\n",
      "\n"
     ]
    }
   ],
   "source": [
    "for _ in range(10):\n",
    "    csv.write.csv(\"/tmp/herp2.txt\", mode=\"overwrite\")\n",
    "\n",
    "spark.read.csv(\"/tmp/herp2.txt\").show()"
   ]
  },
  {
   "cell_type": "code",
   "execution_count": 91,
   "metadata": {},
   "outputs": [
    {
     "ename": "IllegalArgumentException",
     "evalue": "u\"Unknown save mode: errorIfExists. Accepted save modes are 'overwrite', 'append', 'ignore', 'error'.\"",
     "output_type": "error",
     "traceback": [
      "\u001b[0;31m---------------------------------------------------------------------------\u001b[0m",
      "\u001b[0;31mIllegalArgumentException\u001b[0m                  Traceback (most recent call last)",
      "\u001b[0;32m<ipython-input-91-0eb973046c0d>\u001b[0m in \u001b[0;36m<module>\u001b[0;34m()\u001b[0m\n\u001b[1;32m      1\u001b[0m \u001b[0;32mfor\u001b[0m \u001b[0m_\u001b[0m \u001b[0;32min\u001b[0m \u001b[0mrange\u001b[0m\u001b[0;34m(\u001b[0m\u001b[0;36m10\u001b[0m\u001b[0;34m)\u001b[0m\u001b[0;34m:\u001b[0m\u001b[0;34m\u001b[0m\u001b[0m\n\u001b[0;32m----> 2\u001b[0;31m     \u001b[0mcsv\u001b[0m\u001b[0;34m.\u001b[0m\u001b[0mwrite\u001b[0m\u001b[0;34m.\u001b[0m\u001b[0mcsv\u001b[0m\u001b[0;34m(\u001b[0m\u001b[0;34m\"/tmp/herp2.txt\"\u001b[0m\u001b[0;34m,\u001b[0m \u001b[0mmode\u001b[0m\u001b[0;34m=\u001b[0m\u001b[0;34m\"errorIfExists\"\u001b[0m\u001b[0;34m)\u001b[0m\u001b[0;34m\u001b[0m\u001b[0m\n\u001b[0m\u001b[1;32m      3\u001b[0m \u001b[0;34m\u001b[0m\u001b[0m\n\u001b[1;32m      4\u001b[0m \u001b[0mspark\u001b[0m\u001b[0;34m.\u001b[0m\u001b[0mread\u001b[0m\u001b[0;34m.\u001b[0m\u001b[0mcsv\u001b[0m\u001b[0;34m(\u001b[0m\u001b[0;34m\"/tmp/herp2.txt\"\u001b[0m\u001b[0;34m)\u001b[0m\u001b[0;34m.\u001b[0m\u001b[0mshow\u001b[0m\u001b[0;34m(\u001b[0m\u001b[0;34m)\u001b[0m\u001b[0;34m\u001b[0m\u001b[0m\n",
      "\u001b[0;32m/opt/spark/python/lib/pyspark/sql/readwriter.pyc\u001b[0m in \u001b[0;36mcsv\u001b[0;34m(self, path, mode, compression, sep, quote, escape, header, nullValue, escapeQuotes, quoteAll, dateFormat, timestampFormat, ignoreLeadingWhiteSpace, ignoreTrailingWhiteSpace)\u001b[0m\n\u001b[1;32m    758\u001b[0m         \u001b[0;34m>>\u001b[0m\u001b[0;34m>\u001b[0m \u001b[0mdf\u001b[0m\u001b[0;34m.\u001b[0m\u001b[0mwrite\u001b[0m\u001b[0;34m.\u001b[0m\u001b[0mcsv\u001b[0m\u001b[0;34m(\u001b[0m\u001b[0mos\u001b[0m\u001b[0;34m.\u001b[0m\u001b[0mpath\u001b[0m\u001b[0;34m.\u001b[0m\u001b[0mjoin\u001b[0m\u001b[0;34m(\u001b[0m\u001b[0mtempfile\u001b[0m\u001b[0;34m.\u001b[0m\u001b[0mmkdtemp\u001b[0m\u001b[0;34m(\u001b[0m\u001b[0;34m)\u001b[0m\u001b[0;34m,\u001b[0m \u001b[0;34m'data'\u001b[0m\u001b[0;34m)\u001b[0m\u001b[0;34m)\u001b[0m\u001b[0;34m\u001b[0m\u001b[0m\n\u001b[1;32m    759\u001b[0m         \"\"\"\n\u001b[0;32m--> 760\u001b[0;31m         \u001b[0mself\u001b[0m\u001b[0;34m.\u001b[0m\u001b[0mmode\u001b[0m\u001b[0;34m(\u001b[0m\u001b[0mmode\u001b[0m\u001b[0;34m)\u001b[0m\u001b[0;34m\u001b[0m\u001b[0m\n\u001b[0m\u001b[1;32m    761\u001b[0m         self._set_opts(compression=compression, sep=sep, quote=quote, escape=escape, header=header,\n\u001b[1;32m    762\u001b[0m                        \u001b[0mnullValue\u001b[0m\u001b[0;34m=\u001b[0m\u001b[0mnullValue\u001b[0m\u001b[0;34m,\u001b[0m \u001b[0mescapeQuotes\u001b[0m\u001b[0;34m=\u001b[0m\u001b[0mescapeQuotes\u001b[0m\u001b[0;34m,\u001b[0m \u001b[0mquoteAll\u001b[0m\u001b[0;34m=\u001b[0m\u001b[0mquoteAll\u001b[0m\u001b[0;34m,\u001b[0m\u001b[0;34m\u001b[0m\u001b[0m\n",
      "\u001b[0;32m/opt/spark/python/lib/pyspark/sql/readwriter.pyc\u001b[0m in \u001b[0;36mmode\u001b[0;34m(self, saveMode)\u001b[0m\n\u001b[1;32m    509\u001b[0m         \u001b[0;31m# So, if the given saveMode is None, we will not call JVM-side's mode method.\u001b[0m\u001b[0;34m\u001b[0m\u001b[0;34m\u001b[0m\u001b[0m\n\u001b[1;32m    510\u001b[0m         \u001b[0;32mif\u001b[0m \u001b[0msaveMode\u001b[0m \u001b[0;32mis\u001b[0m \u001b[0;32mnot\u001b[0m \u001b[0mNone\u001b[0m\u001b[0;34m:\u001b[0m\u001b[0;34m\u001b[0m\u001b[0m\n\u001b[0;32m--> 511\u001b[0;31m             \u001b[0mself\u001b[0m\u001b[0;34m.\u001b[0m\u001b[0m_jwrite\u001b[0m \u001b[0;34m=\u001b[0m \u001b[0mself\u001b[0m\u001b[0;34m.\u001b[0m\u001b[0m_jwrite\u001b[0m\u001b[0;34m.\u001b[0m\u001b[0mmode\u001b[0m\u001b[0;34m(\u001b[0m\u001b[0msaveMode\u001b[0m\u001b[0;34m)\u001b[0m\u001b[0;34m\u001b[0m\u001b[0m\n\u001b[0m\u001b[1;32m    512\u001b[0m         \u001b[0;32mreturn\u001b[0m \u001b[0mself\u001b[0m\u001b[0;34m\u001b[0m\u001b[0m\n\u001b[1;32m    513\u001b[0m \u001b[0;34m\u001b[0m\u001b[0m\n",
      "\u001b[0;32m/opt/spark/python/lib/py4j/java_gateway.pyc\u001b[0m in \u001b[0;36m__call__\u001b[0;34m(self, *args)\u001b[0m\n\u001b[1;32m   1131\u001b[0m         \u001b[0manswer\u001b[0m \u001b[0;34m=\u001b[0m \u001b[0mself\u001b[0m\u001b[0;34m.\u001b[0m\u001b[0mgateway_client\u001b[0m\u001b[0;34m.\u001b[0m\u001b[0msend_command\u001b[0m\u001b[0;34m(\u001b[0m\u001b[0mcommand\u001b[0m\u001b[0;34m)\u001b[0m\u001b[0;34m\u001b[0m\u001b[0m\n\u001b[1;32m   1132\u001b[0m         return_value = get_return_value(\n\u001b[0;32m-> 1133\u001b[0;31m             answer, self.gateway_client, self.target_id, self.name)\n\u001b[0m\u001b[1;32m   1134\u001b[0m \u001b[0;34m\u001b[0m\u001b[0m\n\u001b[1;32m   1135\u001b[0m         \u001b[0;32mfor\u001b[0m \u001b[0mtemp_arg\u001b[0m \u001b[0;32min\u001b[0m \u001b[0mtemp_args\u001b[0m\u001b[0;34m:\u001b[0m\u001b[0;34m\u001b[0m\u001b[0m\n",
      "\u001b[0;32m/opt/spark/python/lib/pyspark/sql/utils.pyc\u001b[0m in \u001b[0;36mdeco\u001b[0;34m(*a, **kw)\u001b[0m\n\u001b[1;32m     77\u001b[0m                 \u001b[0;32mraise\u001b[0m \u001b[0mQueryExecutionException\u001b[0m\u001b[0;34m(\u001b[0m\u001b[0ms\u001b[0m\u001b[0;34m.\u001b[0m\u001b[0msplit\u001b[0m\u001b[0;34m(\u001b[0m\u001b[0;34m': '\u001b[0m\u001b[0;34m,\u001b[0m \u001b[0;36m1\u001b[0m\u001b[0;34m)\u001b[0m\u001b[0;34m[\u001b[0m\u001b[0;36m1\u001b[0m\u001b[0;34m]\u001b[0m\u001b[0;34m,\u001b[0m \u001b[0mstackTrace\u001b[0m\u001b[0;34m)\u001b[0m\u001b[0;34m\u001b[0m\u001b[0m\n\u001b[1;32m     78\u001b[0m             \u001b[0;32mif\u001b[0m \u001b[0ms\u001b[0m\u001b[0;34m.\u001b[0m\u001b[0mstartswith\u001b[0m\u001b[0;34m(\u001b[0m\u001b[0;34m'java.lang.IllegalArgumentException: '\u001b[0m\u001b[0;34m)\u001b[0m\u001b[0;34m:\u001b[0m\u001b[0;34m\u001b[0m\u001b[0m\n\u001b[0;32m---> 79\u001b[0;31m                 \u001b[0;32mraise\u001b[0m \u001b[0mIllegalArgumentException\u001b[0m\u001b[0;34m(\u001b[0m\u001b[0ms\u001b[0m\u001b[0;34m.\u001b[0m\u001b[0msplit\u001b[0m\u001b[0;34m(\u001b[0m\u001b[0;34m': '\u001b[0m\u001b[0;34m,\u001b[0m \u001b[0;36m1\u001b[0m\u001b[0;34m)\u001b[0m\u001b[0;34m[\u001b[0m\u001b[0;36m1\u001b[0m\u001b[0;34m]\u001b[0m\u001b[0;34m,\u001b[0m \u001b[0mstackTrace\u001b[0m\u001b[0;34m)\u001b[0m\u001b[0;34m\u001b[0m\u001b[0m\n\u001b[0m\u001b[1;32m     80\u001b[0m             \u001b[0;32mraise\u001b[0m\u001b[0;34m\u001b[0m\u001b[0m\n\u001b[1;32m     81\u001b[0m     \u001b[0;32mreturn\u001b[0m \u001b[0mdeco\u001b[0m\u001b[0;34m\u001b[0m\u001b[0m\n",
      "\u001b[0;31mIllegalArgumentException\u001b[0m: u\"Unknown save mode: errorIfExists. Accepted save modes are 'overwrite', 'append', 'ignore', 'error'.\""
     ]
    }
   ],
   "source": [
    "for _ in range(10):\n",
    "    csv.write.csv(\"/tmp/herp2.txt\", mode=\"errorIfExists\")\n",
    "\n",
    "spark.read.csv(\"/tmp/herp2.txt\").show()"
   ]
  },
  {
   "cell_type": "code",
   "execution_count": 92,
   "metadata": {},
   "outputs": [
    {
     "name": "stdout",
     "output_type": "stream",
     "text": [
      "+---+-----------+--------------------+----+\n",
      "|_c0|        _c1|                 _c2| _c3|\n",
      "+---+-----------+--------------------+----+\n",
      "|  0|     AFRICA|lar deposits. bli...|null|\n",
      "|  1|    AMERICA|hs use ironic, ev...|null|\n",
      "|  2|       ASIA|ges. thinly even ...|null|\n",
      "|  3|     EUROPE|ly final courts c...|null|\n",
      "|  4|MIDDLE EAST|uickly special ac...|null|\n",
      "+---+-----------+--------------------+----+\n",
      "\n"
     ]
    }
   ],
   "source": [
    "for _ in range(10):\n",
    "    csv.write.csv(\"/tmp/herp2.txt\", mode=\"ignore\")\n",
    "\n",
    "spark.read.csv(\"/tmp/herp2.txt\").show()"
   ]
  },
  {
   "cell_type": "code",
   "execution_count": 93,
   "metadata": {},
   "outputs": [
    {
     "name": "stdout",
     "output_type": "stream",
     "text": [
      "root\n",
      " |-- _c0: string (nullable = true)\n",
      " |-- _c1: string (nullable = true)\n",
      " |-- _c2: string (nullable = true)\n",
      " |-- _c3: string (nullable = true)\n",
      "\n"
     ]
    }
   ],
   "source": [
    "spark.read.csv(\"/tmp/herp2.txt\").printSchema()"
   ]
  },
  {
   "cell_type": "code",
   "execution_count": 103,
   "metadata": {},
   "outputs": [
    {
     "name": "stdout",
     "output_type": "stream",
     "text": [
      "root\n",
      " |-- _c0: integer (nullable = true)\n",
      " |-- _c1: string (nullable = true)\n",
      " |-- _c2: string (nullable = true)\n",
      " |-- _c3: string (nullable = true)\n",
      "\n"
     ]
    }
   ],
   "source": [
    "spark.read\\\n",
    "     .csv(\"/home/orpington/Desktop/herp.txt\", inferSchema=True)\\\n",
    "     .printSchema()"
   ]
  },
  {
   "cell_type": "code",
   "execution_count": 104,
   "metadata": {},
   "outputs": [
    {
     "name": "stdout",
     "output_type": "stream",
     "text": [
      "+---+-------------+--------------------+----+\n",
      "|_c0|          _c1|                 _c2| _c3|\n",
      "+---+-------------+--------------------+----+\n",
      "|  0|       AFRICA|lar deposits. bli...|null|\n",
      "|  1|      AMERICA|hsuseironic,evenr...|null|\n",
      "|  2|         ASIA|ges. thinly even ...|null|\n",
      "|  3|   EUROPE    |ly final courts c...|null|\n",
      "|  4|  MIDDLE EAST|uickly special ac...|null|\n",
      "+---+-------------+--------------------+----+\n",
      "\n"
     ]
    }
   ],
   "source": [
    "spark.read.csv(\"/home/orpington/Desktop/herp.txt\", escape=\" \").show() #??"
   ]
  },
  {
   "cell_type": "code",
   "execution_count": 106,
   "metadata": {},
   "outputs": [
    {
     "name": "stdout",
     "output_type": "stream",
     "text": [
      "+---+-----------+--------------------+----+\n",
      "|_c0|        _c1|                 _c2| _c3|\n",
      "+---+-----------+--------------------+----+\n",
      "|  0|     AFRICA|lar deposits. bli...|null|\n",
      "|  1|    AMERICA|hs use ironic, ev...|null|\n",
      "|  2|       ASIA|ges. thinly even ...|null|\n",
      "|  3|     EUROPE|ly final courts c...|null|\n",
      "|  4|MIDDLE EAST|uickly special ac...|null|\n",
      "+---+-----------+--------------------+----+\n",
      "\n"
     ]
    }
   ],
   "source": [
    "spark.read.csv(\"/home/orpington/Desktop/herp.txt\", ignoreLeadingWhiteSpace=True, ignoreTrailingWhiteSpace=True).show() "
   ]
  },
  {
   "cell_type": "code",
   "execution_count": 113,
   "metadata": {},
   "outputs": [
    {
     "name": "stdout",
     "output_type": "stream",
     "text": [
      "+----+-------------+--------------------+----+\n",
      "| _c0|          _c1|                 _c2| _c3|\n",
      "+----+-------------+--------------------+----+\n",
      "|   0|       AFRICA|lar deposits. bli...|null|\n",
      "|null|      AMERICA|hs use ironic, ev...|null|\n",
      "|   2|         ASIA|ges. thinly even ...|null|\n",
      "|   3|   EUROPE    |ly final courts c...|null|\n",
      "|   4|  MIDDLE EAST|uickly special ac...|null|\n",
      "+----+-------------+--------------------+----+\n",
      "\n"
     ]
    }
   ],
   "source": [
    "spark.read.csv(\"/home/orpington/Desktop/herp.txt\",  nullValue=1, positiveInf=2).show() "
   ]
  },
  {
   "cell_type": "code",
   "execution_count": 114,
   "metadata": {},
   "outputs": [],
   "source": [
    "csv.write.json(\"/home/orpington/Desktop/herp3.txt\")"
   ]
  },
  {
   "cell_type": "code",
   "execution_count": 115,
   "metadata": {},
   "outputs": [
    {
     "ename": "TypeError",
     "evalue": "json() got an unexpected keyword argument 'wholeFile'",
     "output_type": "error",
     "traceback": [
      "\u001b[0;31m---------------------------------------------------------------------------\u001b[0m",
      "\u001b[0;31mTypeError\u001b[0m                                 Traceback (most recent call last)",
      "\u001b[0;32m<ipython-input-115-c4208c8836d5>\u001b[0m in \u001b[0;36m<module>\u001b[0;34m()\u001b[0m\n\u001b[0;32m----> 1\u001b[0;31m \u001b[0mcsv\u001b[0m\u001b[0;34m.\u001b[0m\u001b[0mwrite\u001b[0m\u001b[0;34m.\u001b[0m\u001b[0mjson\u001b[0m\u001b[0;34m(\u001b[0m\u001b[0;34m\"/home/orpington/Desktop/herp3.txt\"\u001b[0m\u001b[0;34m,\u001b[0m \u001b[0mwholeFile\u001b[0m\u001b[0;34m=\u001b[0m\u001b[0mTrue\u001b[0m\u001b[0;34m)\u001b[0m\u001b[0;34m\u001b[0m\u001b[0m\n\u001b[0m",
      "\u001b[0;31mTypeError\u001b[0m: json() got an unexpected keyword argument 'wholeFile'"
     ]
    }
   ],
   "source": [
    "csv.write.json(\"/home/orpington/Desktop/herp3.txt\", wholeFile=True)"
   ]
  },
  {
   "cell_type": "code",
   "execution_count": null,
   "metadata": {},
   "outputs": [],
   "source": []
  }
 ],
 "metadata": {
  "kernelspec": {
   "display_name": "Python 2",
   "language": "python",
   "name": "python2"
  },
  "language_info": {
   "codemirror_mode": {
    "name": "ipython",
    "version": 2
   },
   "file_extension": ".py",
   "mimetype": "text/x-python",
   "name": "python",
   "nbconvert_exporter": "python",
   "pygments_lexer": "ipython2",
   "version": "2.7.12"
  }
 },
 "nbformat": 4,
 "nbformat_minor": 2
}

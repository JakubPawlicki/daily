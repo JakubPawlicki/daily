{
 "cells": [
  {
   "cell_type": "code",
   "execution_count": 6,
   "metadata": {
    "scrolled": true
   },
   "outputs": [
    {
     "name": "stdout",
     "output_type": "stream",
     "text": [
      "--------------------------------  ----------------------------------------------------------------------------------------------------------------------------------------------------------------\n",
      "AZ_AD_ID                          8f0f2649-5bd6-4956-aae2-81774d4804d1\n",
      "AZ_AD_PASS                        fejredf45_^^\n",
      "AZ_AD_TENANT                      bb482d8d-d073-4641-8d00-61ee67178c8c\n",
      "CLICOLOR                          1\n",
      "CLUTTER_IM_MODULE                 xim\n",
      "COMPIZ_CONFIG_PROFILE             ubuntu\n",
      "DBUS_SESSION_BUS_ADDRESS          unix:abstract=/tmp/dbus-QP4Pjjnrvf\n",
      "DEFAULTS_PATH                     /usr/share/gconf/ubuntu.default.path\n",
      "DESKTOP_SESSION                   ubuntu\n",
      "DISPLAY                           :0\n",
      "GDMSESSION                        ubuntu\n",
      "GDM_LANG                          en_US\n",
      "GIT_PAGER                         cat\n",
      "GNOME_DESKTOP_SESSION_ID          this-is-deprecated\n",
      "GNOME_KEYRING_CONTROL\n",
      "GNOME_KEYRING_PID\n",
      "GPG_AGENT_INFO                    /home/orpington/.gnupg/S.gpg-agent:0:1\n",
      "GTK2_MODULES                      overlay-scrollbar\n",
      "GTK_IM_MODULE                     ibus\n",
      "GTK_MODULES                       gail:atk-bridge:unity-gtk-module\n",
      "HOME                              /home/orpington\n",
      "IM_CONFIG_PHASE                   1\n",
      "INSTANCE\n",
      "JOB                               dbus\n",
      "JPY_PARENT_PID                    11185\n",
      "LANG                              en_US.UTF-8\n",
      "LANGUAGE                          en_US\n",
      "LC_ADDRESS                        pl_PL.UTF-8\n",
      "LC_IDENTIFICATION                 pl_PL.UTF-8\n",
      "LC_MEASUREMENT                    pl_PL.UTF-8\n",
      "LC_MONETARY                       pl_PL.UTF-8\n",
      "LC_NAME                           pl_PL.UTF-8\n",
      "LC_NUMERIC                        pl_PL.UTF-8\n",
      "LC_PAPER                          pl_PL.UTF-8\n",
      "LC_TELEPHONE                      pl_PL.UTF-8\n",
      "LC_TIME                           pl_PL.UTF-8\n",
      "LIBVIRT_DEFAULT_URI               qemu:///system\n",
      "LOGNAME                           orpington\n",
      "MANDATORY_PATH                    /usr/share/gconf/ubuntu.mandatory.path\n",
      "MPLBACKEND                        module://ipykernel.pylab.backend_inline\n",
      "OLDPWD                            /home/orpington/Desktop/daily\n",
      "PAGER                             cat\n",
      "PATH                              /usr/local/bin:/home/orpington/bin:/home/orpington/.local/bin:/usr/local/sbin:/usr/local/bin:/usr/sbin:/usr/bin:/sbin:/bin:/usr/games:/usr/local/games:/snap/bin\n",
      "PWD                               /home/orpington/Desktop/daily/python\n",
      "PYTHONPATH                        /opt/spark/python/lib/py4j-0.10.4-src.zip:/opt/spark/python/:\n",
      "QT4_IM_MODULE                     xim\n",
      "QT_ACCESSIBILITY                  1\n",
      "QT_IM_MODULE                      ibus\n",
      "QT_LINUX_ACCESSIBILITY_ALWAYS_ON  1\n",
      "QT_QPA_PLATFORMTHEME              appmenu-qt5\n",
      "SESSION                           ubuntu\n",
      "SESSIONTYPE                       gnome-session\n",
      "SESSION_MANAGER                   local/orpington-Latitude-E6430:@/tmp/.ICE-unix/2218,unix/orpington-Latitude-E6430:/tmp/.ICE-unix/2218\n",
      "SHELL                             /bin/bash\n",
      "SHLVL                             1\n",
      "SSH_AUTH_SOCK                     /run/user/1000/keyring/ssh\n",
      "TERM                              xterm-color\n",
      "UPSTART_SESSION                   unix:abstract=/com/ubuntu/upstart-session/1000/1970\n",
      "USER                              orpington\n",
      "VTE_VERSION                       4205\n",
      "WINDOWID                          77594634\n",
      "XAUTHORITY                        /home/orpington/.Xauthority\n",
      "XDG_CONFIG_DIRS                   /etc/xdg/xdg-ubuntu:/usr/share/upstart/xdg:/etc/xdg\n",
      "XDG_CURRENT_DESKTOP               Unity\n",
      "XDG_DATA_DIRS                     /usr/share/ubuntu:/usr/share/gnome:/usr/local/share/:/usr/share/:/var/lib/snapd/desktop\n",
      "XDG_GREETER_DATA_DIR              /var/lib/lightdm-data/orpington\n",
      "XDG_MENU_PREFIX                   gnome-\n",
      "XDG_RUNTIME_DIR                   /run/user/1000\n",
      "XDG_SEAT                          seat0\n",
      "XDG_SEAT_PATH                     /org/freedesktop/DisplayManager/Seat0\n",
      "XDG_SESSION_DESKTOP               ubuntu\n",
      "XDG_SESSION_ID                    c2\n",
      "XDG_SESSION_PATH                  /org/freedesktop/DisplayManager/Session0\n",
      "XDG_SESSION_TYPE                  x11\n",
      "XDG_VTNR                          7\n",
      "XMODIFIERS                        @im=ibus\n",
      "_                                 /usr/local/bin/jupyter\n",
      "--------------------------------  ----------------------------------------------------------------------------------------------------------------------------------------------------------------\n"
     ]
    }
   ],
   "source": [
    "import os, tabulate\n",
    "print(tabulate.tabulate(sorted([(key, item) for key, item in os.environ.items()], key=lambda t: t[0])))"
   ]
  },
  {
   "cell_type": "code",
   "execution_count": 1,
   "metadata": {},
   "outputs": [],
   "source": [
    "import os\n",
    "import sys\n",
    "\n",
    "os.environ[\"SPARK_HOME\"] = \"/opt/spark\"\n",
    "spark_home = os.environ.get('SPARK_HOME', None)\n",
    "sys.path.insert(0, os.path.join(spark_home, 'python'))\n",
    "sys.path.insert(0, os.path.join(spark_home, 'python/lib'))"
   ]
  },
  {
   "cell_type": "code",
   "execution_count": 2,
   "metadata": {},
   "outputs": [],
   "source": [
    "from pyspark.sql import SparkSession\n",
    "session = SparkSession.builder.master(\"local[*]\").getOrCreate()"
   ]
  },
  {
   "cell_type": "code",
   "execution_count": 5,
   "metadata": {},
   "outputs": [],
   "source": [
    "data = session.read.format(\"csv\").option(\"sep\", \"|\").load(\"/home/orpington/dbgen-data/lineitem.tbl\")"
   ]
  },
  {
   "cell_type": "code",
   "execution_count": 34,
   "metadata": {},
   "outputs": [
    {
     "name": "stdout",
     "output_type": "stream",
     "text": [
      "+---+------+----+---+---+--------+----+----+---+---+----------+----------+----------+-----------------+-------+--------------------+----+\n",
      "|_c0|   _c1| _c2|_c3|_c4|     _c5| _c6| _c7|_c8|_c9|      _c10|      _c11|      _c12|             _c13|   _c14|                _c15|_c16|\n",
      "+---+------+----+---+---+--------+----+----+---+---+----------+----------+----------+-----------------+-------+--------------------+----+\n",
      "|  1|155190|7706|  1| 17|21168.23|0.04|0.02|  N|  O|1996-03-13|1996-02-12|1996-03-22|DELIVER IN PERSON|  TRUCK|egular courts abo...|null|\n",
      "|  1| 67310|7311|  2| 36|45983.16|0.09|0.06|  N|  O|1996-04-12|1996-02-28|1996-04-20| TAKE BACK RETURN|   MAIL|ly final dependen...|null|\n",
      "|  1| 63700|3701|  3|  8|13309.60|0.10|0.02|  N|  O|1996-01-29|1996-03-05|1996-01-31| TAKE BACK RETURN|REG AIR|riously. regular,...|null|\n",
      "|  1|  2132|4633|  4| 28|28955.64|0.09|0.06|  N|  O|1996-04-21|1996-03-30|1996-05-16|             NONE|    AIR|lites. fluffily e...|null|\n",
      "|  1| 24027|1534|  5| 24|22824.48|0.10|0.04|  N|  O|1996-03-30|1996-03-14|1996-04-01|             NONE|    FOB| pending foxes. s...|null|\n",
      "|  1| 15635| 638|  6| 32|49620.16|0.07|0.02|  N|  O|1996-01-30|1996-02-07|1996-02-03|DELIVER IN PERSON|   MAIL|   arefully slyly ex|null|\n",
      "|  2|106170|1191|  1| 38|44694.46|0.00|0.05|  N|  O|1997-01-28|1997-01-14|1997-02-02| TAKE BACK RETURN|   RAIL|ven requests. dep...|null|\n",
      "|  3|  4297|1798|  1| 45|54058.05|0.06|0.00|  R|  F|1994-02-02|1994-01-04|1994-02-23|             NONE|    AIR|ongside of the fu...|null|\n",
      "|  3| 19036|6540|  2| 49|46796.47|0.10|0.00|  R|  F|1993-11-09|1993-12-20|1993-11-24| TAKE BACK RETURN|   RAIL| unusual accounts...|null|\n",
      "|  3|128449|3474|  3| 27|39890.88|0.06|0.07|  A|  F|1994-01-16|1993-11-22|1994-01-23|DELIVER IN PERSON|   SHIP|    nal foxes wake. |null|\n",
      "+---+------+----+---+---+--------+----+----+---+---+----------+----------+----------+-----------------+-------+--------------------+----+\n",
      "only showing top 10 rows\n",
      "\n"
     ]
    }
   ],
   "source": [
    "data.show(10)"
   ]
  },
  {
   "cell_type": "code",
   "execution_count": 2,
   "metadata": {},
   "outputs": [],
   "source": [
    "raw_schema = \"\"\"\n",
    "\t[L_ORDERKEY] [int] NOT NULL,\n",
    "\t[L_PARTKEY] [int] NOT NULL,\n",
    "\t[L_SUPPKEY] [int] NOT NULL,\n",
    "\t[L_LINENUMBER] [int] NOT NULL,\n",
    "\t[L_QUANTITY] [decimal](15, 2) NOT NULL,\n",
    "\t[L_EXTENDEDPRICE] [decimal](15, 2) NOT NULL,\n",
    "\t[L_DISCOUNT] [decimal](15, 2) NOT NULL,\n",
    "\t[L_TAX] [decimal](15, 2) NOT NULL,\n",
    "\t[L_RETURNFLAG] [char](1) NOT NULL,\n",
    "\t[L_LINESTATUS] [char](1) NOT NULL,\n",
    "\t[L_SHIPDATE] [date] NOT NULL,\n",
    "\t[L_COMMITDATE] [date] NOT NULL,\n",
    "\t[L_RECEIPTDATE] [date] NOT NULL,\n",
    "\t[L_SHIPINSTRUCT] [char](25) NOT NULL,\n",
    "\t[L_SHIPMODE] [char](10) NOT NULL,\n",
    "\t[L_COMMENT] [varchar](44) NOT NULL\n",
    "\"\"\""
   ]
  },
  {
   "cell_type": "code",
   "execution_count": 3,
   "metadata": {},
   "outputs": [
    {
     "data": {
      "text/plain": [
       "['L_ORDERKEY',\n",
       " 'L_PARTKEY',\n",
       " 'L_SUPPKEY',\n",
       " 'L_LINENUMBER',\n",
       " 'L_QUANTITY',\n",
       " 'L_EXTENDEDPRICE',\n",
       " 'L_DISCOUNT',\n",
       " 'L_TAX',\n",
       " 'L_RETURNFLAG',\n",
       " 'L_LINESTATUS',\n",
       " 'L_SHIPDATE',\n",
       " 'L_COMMITDATE',\n",
       " 'L_RECEIPTDATE',\n",
       " 'L_SHIPINSTRUCT',\n",
       " 'L_SHIPMODE',\n",
       " 'L_COMMENT']"
      ]
     },
     "execution_count": 3,
     "metadata": {},
     "output_type": "execute_result"
    }
   ],
   "source": [
    "column_names = [line.split(\"]\")[0][1:] for line in raw_schema.split(\"\\n\\t\")[1:]]\n",
    "column_names"
   ]
  },
  {
   "cell_type": "code",
   "execution_count": 14,
   "metadata": {},
   "outputs": [],
   "source": [
    "from pyspark.sql.types import StructType, StructField, StringType\n",
    "schema = StructType([StructField(column_name, StringType(), False) for column_name in column_names])"
   ]
  },
  {
   "cell_type": "code",
   "execution_count": 15,
   "metadata": {},
   "outputs": [],
   "source": [
    "data = session.read\\\n",
    "              .format(\"csv\")\\\n",
    "              .option(\"sep\", \"|\")\\\n",
    "              .option(\"schema\", schema)\\\n",
    "              .load(\"/home/orpington/dbgen-data/lineitem.tbl\", schema=schema)"
   ]
  },
  {
   "cell_type": "code",
   "execution_count": 10,
   "metadata": {},
   "outputs": [
    {
     "name": "stdout",
     "output_type": "stream",
     "text": [
      "+----------+---------+---------+------------+----------+---------------+----------+-----+------------+------------+----------+------------+-------------+-----------------+----------+--------------------+\n",
      "|L_ORDERKEY|L_PARTKEY|L_SUPPKEY|L_LINENUMBER|L_QUANTITY|L_EXTENDEDPRICE|L_DISCOUNT|L_TAX|L_RETURNFLAG|L_LINESTATUS|L_SHIPDATE|L_COMMITDATE|L_RECEIPTDATE|   L_SHIPINSTRUCT|L_SHIPMODE|           L_COMMENT|\n",
      "+----------+---------+---------+------------+----------+---------------+----------+-----+------------+------------+----------+------------+-------------+-----------------+----------+--------------------+\n",
      "|         1|   155190|     7706|           1|        17|       21168.23|      0.04| 0.02|           N|           O|1996-03-13|  1996-02-12|   1996-03-22|DELIVER IN PERSON|     TRUCK|egular courts abo...|\n",
      "|         1|    67310|     7311|           2|        36|       45983.16|      0.09| 0.06|           N|           O|1996-04-12|  1996-02-28|   1996-04-20| TAKE BACK RETURN|      MAIL|ly final dependen...|\n",
      "|         1|    63700|     3701|           3|         8|       13309.60|      0.10| 0.02|           N|           O|1996-01-29|  1996-03-05|   1996-01-31| TAKE BACK RETURN|   REG AIR|riously. regular,...|\n",
      "|         1|     2132|     4633|           4|        28|       28955.64|      0.09| 0.06|           N|           O|1996-04-21|  1996-03-30|   1996-05-16|             NONE|       AIR|lites. fluffily e...|\n",
      "|         1|    24027|     1534|           5|        24|       22824.48|      0.10| 0.04|           N|           O|1996-03-30|  1996-03-14|   1996-04-01|             NONE|       FOB| pending foxes. s...|\n",
      "|         1|    15635|      638|           6|        32|       49620.16|      0.07| 0.02|           N|           O|1996-01-30|  1996-02-07|   1996-02-03|DELIVER IN PERSON|      MAIL|   arefully slyly ex|\n",
      "|         2|   106170|     1191|           1|        38|       44694.46|      0.00| 0.05|           N|           O|1997-01-28|  1997-01-14|   1997-02-02| TAKE BACK RETURN|      RAIL|ven requests. dep...|\n",
      "|         3|     4297|     1798|           1|        45|       54058.05|      0.06| 0.00|           R|           F|1994-02-02|  1994-01-04|   1994-02-23|             NONE|       AIR|ongside of the fu...|\n",
      "|         3|    19036|     6540|           2|        49|       46796.47|      0.10| 0.00|           R|           F|1993-11-09|  1993-12-20|   1993-11-24| TAKE BACK RETURN|      RAIL| unusual accounts...|\n",
      "|         3|   128449|     3474|           3|        27|       39890.88|      0.06| 0.07|           A|           F|1994-01-16|  1993-11-22|   1994-01-23|DELIVER IN PERSON|      SHIP|    nal foxes wake. |\n",
      "+----------+---------+---------+------------+----------+---------------+----------+-----+------------+------------+----------+------------+-------------+-----------------+----------+--------------------+\n",
      "only showing top 10 rows\n",
      "\n"
     ]
    }
   ],
   "source": [
    "data.show(10)"
   ]
  },
  {
   "cell_type": "code",
   "execution_count": 53,
   "metadata": {},
   "outputs": [
    {
     "data": {
      "text/plain": [
       "6001215"
      ]
     },
     "execution_count": 53,
     "metadata": {},
     "output_type": "execute_result"
    }
   ],
   "source": [
    "data.count()"
   ]
  },
  {
   "cell_type": "code",
   "execution_count": 61,
   "metadata": {},
   "outputs": [],
   "source": [
    "description = data.describe()\n"
   ]
  },
  {
   "cell_type": "code",
   "execution_count": 64,
   "metadata": {},
   "outputs": [
    {
     "data": {
      "text/html": [
       "<div>\n",
       "<style>\n",
       "    .dataframe thead tr:only-child th {\n",
       "        text-align: right;\n",
       "    }\n",
       "\n",
       "    .dataframe thead th {\n",
       "        text-align: left;\n",
       "    }\n",
       "\n",
       "    .dataframe tbody tr th {\n",
       "        vertical-align: top;\n",
       "    }\n",
       "</style>\n",
       "<table border=\"1\" class=\"dataframe\">\n",
       "  <thead>\n",
       "    <tr style=\"text-align: right;\">\n",
       "      <th></th>\n",
       "      <th>summary</th>\n",
       "      <th>L_ORDERKEY</th>\n",
       "      <th>L_PARTKEY</th>\n",
       "      <th>L_SUPPKEY</th>\n",
       "      <th>L_LINENUMBER</th>\n",
       "      <th>L_QUANTITY</th>\n",
       "      <th>L_EXTENDEDPRICE</th>\n",
       "      <th>L_DISCOUNT</th>\n",
       "      <th>L_TAX</th>\n",
       "      <th>L_RETURNFLAG</th>\n",
       "      <th>L_LINESTATUS</th>\n",
       "      <th>L_SHIPDATE</th>\n",
       "      <th>L_COMMITDATE</th>\n",
       "      <th>L_RECEIPTDATE</th>\n",
       "      <th>L_SHIPINSTRUCT</th>\n",
       "      <th>L_SHIPMODE</th>\n",
       "      <th>L_COMMENT</th>\n",
       "    </tr>\n",
       "  </thead>\n",
       "  <tbody>\n",
       "    <tr>\n",
       "      <th>0</th>\n",
       "      <td>count</td>\n",
       "      <td>6001215</td>\n",
       "      <td>6001215</td>\n",
       "      <td>6001215</td>\n",
       "      <td>6001215</td>\n",
       "      <td>6001215</td>\n",
       "      <td>6001215</td>\n",
       "      <td>6001215</td>\n",
       "      <td>6001215</td>\n",
       "      <td>6001215</td>\n",
       "      <td>6001215</td>\n",
       "      <td>6001215</td>\n",
       "      <td>6001215</td>\n",
       "      <td>6001215</td>\n",
       "      <td>6001215</td>\n",
       "      <td>6001215</td>\n",
       "      <td>6001215</td>\n",
       "    </tr>\n",
       "    <tr>\n",
       "      <th>1</th>\n",
       "      <td>mean</td>\n",
       "      <td>3000279.604204982</td>\n",
       "      <td>100017.98932999402</td>\n",
       "      <td>5000.602606138924</td>\n",
       "      <td>3.0005757167506912</td>\n",
       "      <td>25.507967136654827</td>\n",
       "      <td>38255.138484657095</td>\n",
       "      <td>0.049999430115268445</td>\n",
       "      <td>0.04001350893116897</td>\n",
       "      <td>None</td>\n",
       "      <td>None</td>\n",
       "      <td>None</td>\n",
       "      <td>None</td>\n",
       "      <td>None</td>\n",
       "      <td>None</td>\n",
       "      <td>None</td>\n",
       "      <td>None</td>\n",
       "    </tr>\n",
       "    <tr>\n",
       "      <th>2</th>\n",
       "      <td>stddev</td>\n",
       "      <td>1732187.8734803204</td>\n",
       "      <td>57735.69082650498</td>\n",
       "      <td>2886.961998730632</td>\n",
       "      <td>1.732431403651942</td>\n",
       "      <td>14.42626253701689</td>\n",
       "      <td>23300.43871096209</td>\n",
       "      <td>0.03161985510812605</td>\n",
       "      <td>0.02581655179884265</td>\n",
       "      <td>None</td>\n",
       "      <td>None</td>\n",
       "      <td>None</td>\n",
       "      <td>None</td>\n",
       "      <td>None</td>\n",
       "      <td>None</td>\n",
       "      <td>None</td>\n",
       "      <td>None</td>\n",
       "    </tr>\n",
       "    <tr>\n",
       "      <th>3</th>\n",
       "      <td>min</td>\n",
       "      <td>1</td>\n",
       "      <td>1</td>\n",
       "      <td>1</td>\n",
       "      <td>1</td>\n",
       "      <td>1</td>\n",
       "      <td>1000.00</td>\n",
       "      <td>0.00</td>\n",
       "      <td>0.00</td>\n",
       "      <td>A</td>\n",
       "      <td>F</td>\n",
       "      <td>1992-01-02</td>\n",
       "      <td>1992-01-31</td>\n",
       "      <td>1992-01-04</td>\n",
       "      <td>COLLECT COD</td>\n",
       "      <td>AIR</td>\n",
       "      <td>Tiresias</td>\n",
       "    </tr>\n",
       "    <tr>\n",
       "      <th>4</th>\n",
       "      <td>max</td>\n",
       "      <td>999975</td>\n",
       "      <td>99999</td>\n",
       "      <td>9999</td>\n",
       "      <td>7</td>\n",
       "      <td>9</td>\n",
       "      <td>99999.50</td>\n",
       "      <td>0.10</td>\n",
       "      <td>0.08</td>\n",
       "      <td>R</td>\n",
       "      <td>O</td>\n",
       "      <td>1998-12-01</td>\n",
       "      <td>1998-10-31</td>\n",
       "      <td>1998-12-31</td>\n",
       "      <td>TAKE BACK RETURN</td>\n",
       "      <td>TRUCK</td>\n",
       "      <td>zzle? slyly final platelets sleep quickly.</td>\n",
       "    </tr>\n",
       "  </tbody>\n",
       "</table>\n",
       "</div>"
      ],
      "text/plain": [
       "  summary          L_ORDERKEY           L_PARTKEY          L_SUPPKEY  \\\n",
       "0   count             6001215             6001215            6001215   \n",
       "1    mean   3000279.604204982  100017.98932999402  5000.602606138924   \n",
       "2  stddev  1732187.8734803204   57735.69082650498  2886.961998730632   \n",
       "3     min                   1                   1                  1   \n",
       "4     max              999975               99999               9999   \n",
       "\n",
       "         L_LINENUMBER          L_QUANTITY     L_EXTENDEDPRICE  \\\n",
       "0             6001215             6001215             6001215   \n",
       "1  3.0005757167506912  25.507967136654827  38255.138484657095   \n",
       "2   1.732431403651942   14.42626253701689   23300.43871096209   \n",
       "3                   1                   1             1000.00   \n",
       "4                   7                   9            99999.50   \n",
       "\n",
       "             L_DISCOUNT                L_TAX L_RETURNFLAG L_LINESTATUS  \\\n",
       "0               6001215              6001215      6001215      6001215   \n",
       "1  0.049999430115268445  0.04001350893116897         None         None   \n",
       "2   0.03161985510812605  0.02581655179884265         None         None   \n",
       "3                  0.00                 0.00            A            F   \n",
       "4                  0.10                 0.08            R            O   \n",
       "\n",
       "   L_SHIPDATE L_COMMITDATE L_RECEIPTDATE    L_SHIPINSTRUCT L_SHIPMODE  \\\n",
       "0     6001215      6001215       6001215           6001215    6001215   \n",
       "1        None         None          None              None       None   \n",
       "2        None         None          None              None       None   \n",
       "3  1992-01-02   1992-01-31    1992-01-04       COLLECT COD        AIR   \n",
       "4  1998-12-01   1998-10-31    1998-12-31  TAKE BACK RETURN      TRUCK   \n",
       "\n",
       "                                     L_COMMENT  \n",
       "0                                      6001215  \n",
       "1                                         None  \n",
       "2                                         None  \n",
       "3                                    Tiresias   \n",
       "4  zzle? slyly final platelets sleep quickly.   "
      ]
     },
     "execution_count": 64,
     "metadata": {},
     "output_type": "execute_result"
    }
   ],
   "source": [
    "description.toPandas()"
   ]
  },
  {
   "cell_type": "code",
   "execution_count": 56,
   "metadata": {},
   "outputs": [
    {
     "name": "stdout",
     "output_type": "stream",
     "text": [
      "root\n",
      " |-- L_ORDERKEY: string (nullable = true)\n",
      " |-- L_PARTKEY: string (nullable = true)\n",
      " |-- L_SUPPKEY: string (nullable = true)\n",
      " |-- L_LINENUMBER: string (nullable = true)\n",
      " |-- L_QUANTITY: string (nullable = true)\n",
      " |-- L_EXTENDEDPRICE: string (nullable = true)\n",
      " |-- L_DISCOUNT: string (nullable = true)\n",
      " |-- L_TAX: string (nullable = true)\n",
      " |-- L_RETURNFLAG: string (nullable = true)\n",
      " |-- L_LINESTATUS: string (nullable = true)\n",
      " |-- L_SHIPDATE: string (nullable = true)\n",
      " |-- L_COMMITDATE: string (nullable = true)\n",
      " |-- L_RECEIPTDATE: string (nullable = true)\n",
      " |-- L_SHIPINSTRUCT: string (nullable = true)\n",
      " |-- L_SHIPMODE: string (nullable = true)\n",
      " |-- L_COMMENT: string (nullable = true)\n",
      "\n"
     ]
    }
   ],
   "source": [
    "session.createDataFrame(data.rdd).printSchema()"
   ]
  },
  {
   "cell_type": "code",
   "execution_count": 63,
   "metadata": {},
   "outputs": [],
   "source": [
    "data.createOrReplaceTempView(\"lineitem\")"
   ]
  },
  {
   "cell_type": "code",
   "execution_count": 71,
   "metadata": {},
   "outputs": [
    {
     "data": {
      "text/html": [
       "<div>\n",
       "<style>\n",
       "    .dataframe thead tr:only-child th {\n",
       "        text-align: right;\n",
       "    }\n",
       "\n",
       "    .dataframe thead th {\n",
       "        text-align: left;\n",
       "    }\n",
       "\n",
       "    .dataframe tbody tr th {\n",
       "        vertical-align: top;\n",
       "    }\n",
       "</style>\n",
       "<table border=\"1\" class=\"dataframe\">\n",
       "  <thead>\n",
       "    <tr style=\"text-align: right;\">\n",
       "      <th></th>\n",
       "      <th>0</th>\n",
       "    </tr>\n",
       "  </thead>\n",
       "  <tbody>\n",
       "    <tr>\n",
       "      <th>*</th>\n",
       "      <td>6001215</td>\n",
       "    </tr>\n",
       "    <tr>\n",
       "      <th>1</th>\n",
       "      <td>6001215</td>\n",
       "    </tr>\n",
       "    <tr>\n",
       "      <th>L_SHIPMODE</th>\n",
       "      <td>6001215</td>\n",
       "    </tr>\n",
       "    <tr>\n",
       "      <th>L_RETURNFLAG</th>\n",
       "      <td>6001215</td>\n",
       "    </tr>\n",
       "  </tbody>\n",
       "</table>\n",
       "</div>"
      ],
      "text/plain": [
       "                    0\n",
       "*             6001215\n",
       "1             6001215\n",
       "L_SHIPMODE    6001215\n",
       "L_RETURNFLAG  6001215"
      ]
     },
     "execution_count": 71,
     "metadata": {},
     "output_type": "execute_result"
    }
   ],
   "source": [
    "from pyspark.sql.functions import count, lit\n",
    "exprs = [count(\"*\").alias(\"*\")]\n",
    "exprs += [count(lit(1)).alias(\"1\")]\n",
    "exprs += [count(\"L_SHIPMODE\").alias(\"L_SHIPMODE\")]\n",
    "exprs += [count(\"L_RETURNFLAG\").alias(\"L_RETURNFLAG\")]\n",
    "data.select(exprs).toPandas().T"
   ]
  },
  {
   "cell_type": "code",
   "execution_count": 74,
   "metadata": {},
   "outputs": [
    {
     "name": "stdout",
     "output_type": "stream",
     "text": [
      "+--------+--------------------------------------------------------------------------------------------------------------------------------------------------------------------------------------------------------------------------+\n",
      "|count(1)|count(DISTINCT L_ORDERKEY, L_PARTKEY, L_SUPPKEY, L_LINENUMBER, L_QUANTITY, L_EXTENDEDPRICE, L_DISCOUNT, L_TAX, L_RETURNFLAG, L_LINESTATUS, L_SHIPDATE, L_COMMITDATE, L_RECEIPTDATE, L_SHIPINSTRUCT, L_SHIPMODE, L_COMMENT)|\n",
      "+--------+--------------------------------------------------------------------------------------------------------------------------------------------------------------------------------------------------------------------------+\n",
      "| 6001215|                                                                                                                                                                                                                   6001215|\n",
      "+--------+--------------------------------------------------------------------------------------------------------------------------------------------------------------------------------------------------------------------------+\n",
      "\n"
     ]
    }
   ],
   "source": [
    "session.sql(\"select count(*), count(distinct *) from lineitem\").show()"
   ]
  },
  {
   "cell_type": "code",
   "execution_count": 64,
   "metadata": {},
   "outputs": [
    {
     "data": {
      "text/html": [
       "<div>\n",
       "<style>\n",
       "    .dataframe thead tr:only-child th {\n",
       "        text-align: right;\n",
       "    }\n",
       "\n",
       "    .dataframe thead th {\n",
       "        text-align: left;\n",
       "    }\n",
       "\n",
       "    .dataframe tbody tr th {\n",
       "        vertical-align: top;\n",
       "    }\n",
       "</style>\n",
       "<table border=\"1\" class=\"dataframe\">\n",
       "  <thead>\n",
       "    <tr style=\"text-align: right;\">\n",
       "      <th></th>\n",
       "      <th>0</th>\n",
       "    </tr>\n",
       "  </thead>\n",
       "  <tbody>\n",
       "    <tr>\n",
       "      <th>count(DISTINCT L_ORDERKEY)</th>\n",
       "      <td>1500000</td>\n",
       "    </tr>\n",
       "    <tr>\n",
       "      <th>count(DISTINCT L_PARTKEY)</th>\n",
       "      <td>200000</td>\n",
       "    </tr>\n",
       "    <tr>\n",
       "      <th>count(DISTINCT L_SUPPKEY)</th>\n",
       "      <td>10000</td>\n",
       "    </tr>\n",
       "    <tr>\n",
       "      <th>count(DISTINCT L_LINENUMBER)</th>\n",
       "      <td>7</td>\n",
       "    </tr>\n",
       "    <tr>\n",
       "      <th>count(DISTINCT L_QUANTITY)</th>\n",
       "      <td>50</td>\n",
       "    </tr>\n",
       "    <tr>\n",
       "      <th>count(DISTINCT L_EXTENDEDPRICE)</th>\n",
       "      <td>933900</td>\n",
       "    </tr>\n",
       "    <tr>\n",
       "      <th>count(DISTINCT L_DISCOUNT)</th>\n",
       "      <td>11</td>\n",
       "    </tr>\n",
       "    <tr>\n",
       "      <th>count(DISTINCT L_TAX)</th>\n",
       "      <td>9</td>\n",
       "    </tr>\n",
       "    <tr>\n",
       "      <th>count(DISTINCT L_RETURNFLAG)</th>\n",
       "      <td>3</td>\n",
       "    </tr>\n",
       "    <tr>\n",
       "      <th>count(DISTINCT L_LINESTATUS)</th>\n",
       "      <td>2</td>\n",
       "    </tr>\n",
       "    <tr>\n",
       "      <th>count(DISTINCT L_SHIPDATE)</th>\n",
       "      <td>2526</td>\n",
       "    </tr>\n",
       "    <tr>\n",
       "      <th>count(DISTINCT L_COMMITDATE)</th>\n",
       "      <td>2466</td>\n",
       "    </tr>\n",
       "    <tr>\n",
       "      <th>count(DISTINCT L_RECEIPTDATE)</th>\n",
       "      <td>2554</td>\n",
       "    </tr>\n",
       "    <tr>\n",
       "      <th>count(DISTINCT L_SHIPINSTRUCT)</th>\n",
       "      <td>4</td>\n",
       "    </tr>\n",
       "    <tr>\n",
       "      <th>count(DISTINCT L_SHIPMODE)</th>\n",
       "      <td>7</td>\n",
       "    </tr>\n",
       "    <tr>\n",
       "      <th>count(DISTINCT L_COMMENT)</th>\n",
       "      <td>4580667</td>\n",
       "    </tr>\n",
       "  </tbody>\n",
       "</table>\n",
       "</div>"
      ],
      "text/plain": [
       "                                       0\n",
       "count(DISTINCT L_ORDERKEY)       1500000\n",
       "count(DISTINCT L_PARTKEY)         200000\n",
       "count(DISTINCT L_SUPPKEY)          10000\n",
       "count(DISTINCT L_LINENUMBER)           7\n",
       "count(DISTINCT L_QUANTITY)            50\n",
       "count(DISTINCT L_EXTENDEDPRICE)   933900\n",
       "count(DISTINCT L_DISCOUNT)            11\n",
       "count(DISTINCT L_TAX)                  9\n",
       "count(DISTINCT L_RETURNFLAG)           3\n",
       "count(DISTINCT L_LINESTATUS)           2\n",
       "count(DISTINCT L_SHIPDATE)          2526\n",
       "count(DISTINCT L_COMMITDATE)        2466\n",
       "count(DISTINCT L_RECEIPTDATE)       2554\n",
       "count(DISTINCT L_SHIPINSTRUCT)         4\n",
       "count(DISTINCT L_SHIPMODE)             7\n",
       "count(DISTINCT L_COMMENT)        4580667"
      ]
     },
     "execution_count": 64,
     "metadata": {},
     "output_type": "execute_result"
    }
   ],
   "source": [
    "from pyspark.sql.functions import countDistinct\n",
    "exprs = [countDistinct(column) for column in data.columns]\n",
    "data.select(exprs).toPandas().T"
   ]
  },
  {
   "cell_type": "code",
   "execution_count": 78,
   "metadata": {
    "scrolled": true
   },
   "outputs": [
    {
     "name": "stdout",
     "output_type": "stream",
     "text": [
      "+-----------------------------------+\n",
      "|approx_count_distinct(L_COMMITDATE)|\n",
      "+-----------------------------------+\n",
      "|                               2514|\n",
      "+-----------------------------------+\n",
      "\n"
     ]
    }
   ],
   "source": [
    "session.sql(\"\"\"\n",
    "select approx_count_distinct(L_COMMITDATE, 0.1) from lineitem limit 1000\n",
    "\"\"\").show()"
   ]
  },
  {
   "cell_type": "code",
   "execution_count": 82,
   "metadata": {},
   "outputs": [
    {
     "data": {
      "text/plain": [
       "1"
      ]
     },
     "execution_count": 82,
     "metadata": {},
     "output_type": "execute_result"
    }
   ],
   "source": [
    "10**-0"
   ]
  },
  {
   "cell_type": "code",
   "execution_count": 85,
   "metadata": {},
   "outputs": [
    {
     "name": "stdout",
     "output_type": "stream",
     "text": [
      "Help on function approx_count_distinct in module pyspark.sql.functions:\n",
      "\n",
      "approx_count_distinct(col, rsd=None)\n",
      "    Returns a new :class:`Column` for approximate distinct count of ``col``.\n",
      "    \n",
      "    >>> df.agg(approx_count_distinct(df.age).alias('c')).collect()\n",
      "    [Row(c=2)]\n",
      "    \n",
      "    .. versionadded:: 2.1\n",
      "\n"
     ]
    }
   ],
   "source": [
    "help(approx_count_distinct)"
   ]
  },
  {
   "cell_type": "code",
   "execution_count": 106,
   "metadata": {},
   "outputs": [
    {
     "data": {
      "text/plain": [
       "DataFrame[L_ORDERKEY: string, L_PARTKEY: string, L_SUPPKEY: string, L_LINENUMBER: string, L_QUANTITY: string, L_EXTENDEDPRICE: string, L_DISCOUNT: string, L_TAX: string, L_RETURNFLAG: string, L_LINESTATUS: string, L_SHIPDATE: string, L_COMMITDATE: string, L_RECEIPTDATE: string, L_SHIPINSTRUCT: string, L_SHIPMODE: string, L_COMMENT: string]"
      ]
     },
     "execution_count": 106,
     "metadata": {},
     "output_type": "execute_result"
    }
   ],
   "source": [
    "data.cache()"
   ]
  },
  {
   "cell_type": "code",
   "execution_count": 31,
   "metadata": {},
   "outputs": [
    {
     "data": {
      "text/html": [
       "<div>\n",
       "<style>\n",
       "    .dataframe thead tr:only-child th {\n",
       "        text-align: right;\n",
       "    }\n",
       "\n",
       "    .dataframe thead th {\n",
       "        text-align: left;\n",
       "    }\n",
       "\n",
       "    .dataframe tbody tr th {\n",
       "        vertical-align: top;\n",
       "    }\n",
       "</style>\n",
       "<table border=\"1\" class=\"dataframe\">\n",
       "  <thead>\n",
       "    <tr style=\"text-align: right;\">\n",
       "      <th></th>\n",
       "      <th>0</th>\n",
       "    </tr>\n",
       "  </thead>\n",
       "  <tbody>\n",
       "    <tr>\n",
       "      <th>count(DISTINCT L_COMMITDATE)</th>\n",
       "      <td>2466</td>\n",
       "    </tr>\n",
       "    <tr>\n",
       "      <th>approx_count_distinct(L_COMMITDATE)</th>\n",
       "      <td>2425</td>\n",
       "    </tr>\n",
       "    <tr>\n",
       "      <th>approx_count_distinct(L_COMMITDATE)</th>\n",
       "      <td>2425</td>\n",
       "    </tr>\n",
       "    <tr>\n",
       "      <th>approx_count_distinct(L_COMMITDATE)</th>\n",
       "      <td>2232</td>\n",
       "    </tr>\n",
       "    <tr>\n",
       "      <th>approx_count_distinct(L_COMMITDATE)</th>\n",
       "      <td>2232</td>\n",
       "    </tr>\n",
       "    <tr>\n",
       "      <th>approx_count_distinct(L_COMMITDATE)</th>\n",
       "      <td>2232</td>\n",
       "    </tr>\n",
       "    <tr>\n",
       "      <th>approx_count_distinct(L_COMMITDATE)</th>\n",
       "      <td>2232</td>\n",
       "    </tr>\n",
       "    <tr>\n",
       "      <th>approx_count_distinct(L_COMMITDATE)</th>\n",
       "      <td>2575</td>\n",
       "    </tr>\n",
       "    <tr>\n",
       "      <th>approx_count_distinct(L_COMMITDATE)</th>\n",
       "      <td>2575</td>\n",
       "    </tr>\n",
       "    <tr>\n",
       "      <th>approx_count_distinct(L_COMMITDATE)</th>\n",
       "      <td>2575</td>\n",
       "    </tr>\n",
       "    <tr>\n",
       "      <th>approx_count_distinct(L_COMMITDATE)</th>\n",
       "      <td>2514</td>\n",
       "    </tr>\n",
       "  </tbody>\n",
       "</table>\n",
       "</div>"
      ],
      "text/plain": [
       "                                        0\n",
       "count(DISTINCT L_COMMITDATE)         2466\n",
       "approx_count_distinct(L_COMMITDATE)  2425\n",
       "approx_count_distinct(L_COMMITDATE)  2425\n",
       "approx_count_distinct(L_COMMITDATE)  2232\n",
       "approx_count_distinct(L_COMMITDATE)  2232\n",
       "approx_count_distinct(L_COMMITDATE)  2232\n",
       "approx_count_distinct(L_COMMITDATE)  2232\n",
       "approx_count_distinct(L_COMMITDATE)  2575\n",
       "approx_count_distinct(L_COMMITDATE)  2575\n",
       "approx_count_distinct(L_COMMITDATE)  2575\n",
       "approx_count_distinct(L_COMMITDATE)  2514"
      ]
     },
     "execution_count": 31,
     "metadata": {},
     "output_type": "execute_result"
    }
   ],
   "source": [
    "from pyspark.sql.functions import approx_count_distinct, count, countDistinct\n",
    "\n",
    "exprs = [countDistinct(\"L_COMMITDATE\")]\n",
    "exprs += [approx_count_distinct(\"L_COMMITDATE\", \n",
    "                               rsd=float(0.30 - (exponent * 0.02)))\n",
    "         for exponent \n",
    "         in range(10)]\n",
    "data.select(exprs).toPandas().T"
   ]
  },
  {
   "cell_type": "code",
   "execution_count": 36,
   "metadata": {},
   "outputs": [
    {
     "data": {
      "text/html": [
       "<div>\n",
       "<style>\n",
       "    .dataframe thead tr:only-child th {\n",
       "        text-align: right;\n",
       "    }\n",
       "\n",
       "    .dataframe thead th {\n",
       "        text-align: left;\n",
       "    }\n",
       "\n",
       "    .dataframe tbody tr th {\n",
       "        vertical-align: top;\n",
       "    }\n",
       "</style>\n",
       "<table border=\"1\" class=\"dataframe\">\n",
       "  <thead>\n",
       "    <tr style=\"text-align: right;\">\n",
       "      <th></th>\n",
       "      <th>0</th>\n",
       "    </tr>\n",
       "  </thead>\n",
       "  <tbody>\n",
       "    <tr>\n",
       "      <th>first(L_COMMITDATE, false)</th>\n",
       "      <td>1996-02-12</td>\n",
       "    </tr>\n",
       "    <tr>\n",
       "      <th>last(L_COMMITDATE, false)</th>\n",
       "      <td>1996-10-01</td>\n",
       "    </tr>\n",
       "    <tr>\n",
       "      <th>first(L_COMMITDATE, true)</th>\n",
       "      <td>1996-02-12</td>\n",
       "    </tr>\n",
       "    <tr>\n",
       "      <th>last(L_COMMITDATE, true)</th>\n",
       "      <td>1996-10-01</td>\n",
       "    </tr>\n",
       "  </tbody>\n",
       "</table>\n",
       "</div>"
      ],
      "text/plain": [
       "                                     0\n",
       "first(L_COMMITDATE, false)  1996-02-12\n",
       "last(L_COMMITDATE, false)   1996-10-01\n",
       "first(L_COMMITDATE, true)   1996-02-12\n",
       "last(L_COMMITDATE, true)    1996-10-01"
      ]
     },
     "execution_count": 36,
     "metadata": {},
     "output_type": "execute_result"
    }
   ],
   "source": [
    "from pyspark.sql.functions import first, last\n",
    "data.select(first(\"L_COMMITDATE\"), \n",
    "            last(\"L_COMMITDATE\"),\n",
    "            first(\"L_COMMITDATE\", True), \n",
    "            last(\"L_COMMITDATE\", True)\n",
    "           ).toPandas().T"
   ]
  },
  {
   "cell_type": "code",
   "execution_count": 37,
   "metadata": {},
   "outputs": [
    {
     "name": "stdout",
     "output_type": "stream",
     "text": [
      "Help on function last in module pyspark.sql.functions:\n",
      "\n",
      "last(col, ignorenulls=False)\n",
      "    Aggregate function: returns the last value in a group.\n",
      "    \n",
      "    The function by default returns the last values it sees. It will return the last non-null\n",
      "    value it sees when ignoreNulls is set to true. If all values are null, then null is returned.\n",
      "    \n",
      "    .. versionadded:: 1.3\n",
      "\n"
     ]
    }
   ],
   "source": [
    "help(last)"
   ]
  },
  {
   "cell_type": "code",
   "execution_count": 48,
   "metadata": {},
   "outputs": [
    {
     "name": "stdout",
     "output_type": "stream",
     "text": [
      "+---------+------------------+---------+---------+\n",
      "|sum(nums)|sum(DISTINCT nums)|max(nums)|min(nums)|\n",
      "+---------+------------------+---------+---------+\n",
      "|      135|                45|        9|        0|\n",
      "+---------+------------------+---------+---------+\n",
      "\n"
     ]
    }
   ],
   "source": [
    "from pyspark.sql.functions import col, array, explode, sum, sumDistinct, max, min\n",
    "session.range(10).select(explode(array([col(\"id\")] * 3)).alias(\"nums\"))\\\n",
    "                 .select(sum(\"nums\"), sumDistinct(\"nums\"), max(\"nums\"), min(\"nums\")).show()"
   ]
  },
  {
   "cell_type": "code",
   "execution_count": 46,
   "metadata": {},
   "outputs": [
    {
     "name": "stdout",
     "output_type": "stream",
     "text": [
      "+----+\n",
      "|col0|\n",
      "+----+\n",
      "|   0|\n",
      "|   0|\n",
      "|   0|\n",
      "|   1|\n",
      "|   1|\n",
      "|   1|\n",
      "|   2|\n",
      "|   2|\n",
      "|   2|\n",
      "+----+\n",
      "\n"
     ]
    }
   ],
   "source": [
    "session.range(3).selectExpr(\"stack(3, id, id, id)\").show()"
   ]
  },
  {
   "cell_type": "code",
   "execution_count": 54,
   "metadata": {},
   "outputs": [
    {
     "data": {
      "text/html": [
       "<div>\n",
       "<style>\n",
       "    .dataframe thead tr:only-child th {\n",
       "        text-align: right;\n",
       "    }\n",
       "\n",
       "    .dataframe thead th {\n",
       "        text-align: left;\n",
       "    }\n",
       "\n",
       "    .dataframe tbody tr th {\n",
       "        vertical-align: top;\n",
       "    }\n",
       "</style>\n",
       "<table border=\"1\" class=\"dataframe\">\n",
       "  <thead>\n",
       "    <tr style=\"text-align: right;\">\n",
       "      <th></th>\n",
       "      <th>0</th>\n",
       "    </tr>\n",
       "  </thead>\n",
       "  <tbody>\n",
       "    <tr>\n",
       "      <th>avg(L_QUANTITY)</th>\n",
       "      <td>25.507967</td>\n",
       "    </tr>\n",
       "    <tr>\n",
       "      <th>avg(L_QUANTITY)</th>\n",
       "      <td>25.507967</td>\n",
       "    </tr>\n",
       "    <tr>\n",
       "      <th>var_pop(L_QUANTITY)</th>\n",
       "      <td>208.117016</td>\n",
       "    </tr>\n",
       "    <tr>\n",
       "      <th>var_samp(L_QUANTITY)</th>\n",
       "      <td>208.117051</td>\n",
       "    </tr>\n",
       "    <tr>\n",
       "      <th>stddev_pop(L_QUANTITY)</th>\n",
       "      <td>14.426261</td>\n",
       "    </tr>\n",
       "    <tr>\n",
       "      <th>stddev_samp(L_QUANTITY)</th>\n",
       "      <td>14.426263</td>\n",
       "    </tr>\n",
       "    <tr>\n",
       "      <th>skewness(L_QUANTITY)</th>\n",
       "      <td>-0.001052</td>\n",
       "    </tr>\n",
       "    <tr>\n",
       "      <th>kurtosis(L_QUANTITY)</th>\n",
       "      <td>-1.200236</td>\n",
       "    </tr>\n",
       "  </tbody>\n",
       "</table>\n",
       "</div>"
      ],
      "text/plain": [
       "                                  0\n",
       "avg(L_QUANTITY)           25.507967\n",
       "avg(L_QUANTITY)           25.507967\n",
       "var_pop(L_QUANTITY)      208.117016\n",
       "var_samp(L_QUANTITY)     208.117051\n",
       "stddev_pop(L_QUANTITY)    14.426261\n",
       "stddev_samp(L_QUANTITY)   14.426263\n",
       "skewness(L_QUANTITY)      -0.001052\n",
       "kurtosis(L_QUANTITY)      -1.200236"
      ]
     },
     "execution_count": 54,
     "metadata": {},
     "output_type": "execute_result"
    }
   ],
   "source": [
    "from pyspark.sql.functions import (\n",
    "    avg, mean, \n",
    "    var_pop, var_samp, stddev_pop, stddev_samp, \n",
    "    skewness, kurtosis\n",
    ")\n",
    "numeric_col = \"L_QUANTITY\"\n",
    "data.select(avg(numeric_col), \n",
    "            mean(numeric_col),\n",
    "            var_pop(numeric_col),\n",
    "            var_samp(numeric_col),\n",
    "            stddev_pop(numeric_col),\n",
    "            stddev_samp(numeric_col),\n",
    "            skewness(numeric_col),\n",
    "            kurtosis(numeric_col)).toPandas().T"
   ]
  },
  {
   "cell_type": "code",
   "execution_count": 56,
   "metadata": {},
   "outputs": [
    {
     "data": {
      "text/html": [
       "<div>\n",
       "<style>\n",
       "    .dataframe thead tr:only-child th {\n",
       "        text-align: right;\n",
       "    }\n",
       "\n",
       "    .dataframe thead th {\n",
       "        text-align: left;\n",
       "    }\n",
       "\n",
       "    .dataframe tbody tr th {\n",
       "        vertical-align: top;\n",
       "    }\n",
       "</style>\n",
       "<table border=\"1\" class=\"dataframe\">\n",
       "  <thead>\n",
       "    <tr style=\"text-align: right;\">\n",
       "      <th></th>\n",
       "      <th>corr</th>\n",
       "      <th>covar_samp</th>\n",
       "      <th>covar_pop</th>\n",
       "    </tr>\n",
       "  </thead>\n",
       "  <tbody>\n",
       "    <tr>\n",
       "      <th>0</th>\n",
       "      <td>-0.000752</td>\n",
       "      <td>-0.000343</td>\n",
       "      <td>-0.000343</td>\n",
       "    </tr>\n",
       "  </tbody>\n",
       "</table>\n",
       "</div>"
      ],
      "text/plain": [
       "       corr  covar_samp  covar_pop\n",
       "0 -0.000752   -0.000343  -0.000343"
      ]
     },
     "execution_count": 56,
     "metadata": {},
     "output_type": "execute_result"
    }
   ],
   "source": [
    "from pyspark.sql.functions import corr, covar_samp, covar_pop\n",
    "\n",
    "data.select([fun(\"L_QUANTITY\", \"L_DISCOUNT\").alias(fun.func_name) \n",
    "             for fun in [corr, covar_samp, covar_pop]])\\\n",
    "    .toPandas()\n"
   ]
  },
  {
   "cell_type": "code",
   "execution_count": 59,
   "metadata": {},
   "outputs": [
    {
     "data": {
      "text/html": [
       "<div>\n",
       "<style>\n",
       "    .dataframe thead tr:only-child th {\n",
       "        text-align: right;\n",
       "    }\n",
       "\n",
       "    .dataframe thead th {\n",
       "        text-align: left;\n",
       "    }\n",
       "\n",
       "    .dataframe tbody tr th {\n",
       "        vertical-align: top;\n",
       "    }\n",
       "</style>\n",
       "<table border=\"1\" class=\"dataframe\">\n",
       "  <thead>\n",
       "    <tr style=\"text-align: right;\">\n",
       "      <th></th>\n",
       "      <th>collect_set(id)</th>\n",
       "      <th>collect_list(id)</th>\n",
       "    </tr>\n",
       "  </thead>\n",
       "  <tbody>\n",
       "    <tr>\n",
       "      <th>0</th>\n",
       "      <td>[0, 9, 1, 5, 2, 6, 3, 7, 4, 8]</td>\n",
       "      <td>[0, 0, 1, 1, 2, 2, 3, 3, 4, 4, 5, 5, 6, 6, 7, ...</td>\n",
       "    </tr>\n",
       "  </tbody>\n",
       "</table>\n",
       "</div>"
      ],
      "text/plain": [
       "                  collect_set(id)  \\\n",
       "0  [0, 9, 1, 5, 2, 6, 3, 7, 4, 8]   \n",
       "\n",
       "                                    collect_list(id)  \n",
       "0  [0, 0, 1, 1, 2, 2, 3, 3, 4, 4, 5, 5, 6, 6, 7, ...  "
      ]
     },
     "execution_count": 59,
     "metadata": {},
     "output_type": "execute_result"
    }
   ],
   "source": [
    "from pyspark.sql.functions import collect_set, collect_list\n",
    "session.range(10)\\\n",
    "       .selectExpr(\"stack(2, id, id) as id\")\\\n",
    "       .select(collect_set(\"id\"), collect_list(\"id\"))\\\n",
    "       .toPandas()"
   ]
  },
  {
   "cell_type": "code",
   "execution_count": 74,
   "metadata": {},
   "outputs": [
    {
     "name": "stdout",
     "output_type": "stream",
     "text": [
      "L_SHIPINSTRUCT       count\n",
      "-----------------  -------\n",
      "TAKE BACK RETURN   1499758\n",
      "DELIVER IN PERSON  1500048\n",
      "COLLECT COD        1500547\n",
      "NONE               1500862\n",
      "\n",
      "L_SHIPINSTRUCT     L_LINESTATUS      count\n",
      "-----------------  --------------  -------\n",
      "TAKE BACK RETURN   F                747938\n",
      "NONE               F                749160\n",
      "DELIVER IN PERSON  F                749531\n",
      "COLLECT COD        F                749588\n",
      "DELIVER IN PERSON  O                750517\n",
      "COLLECT COD        O                750959\n",
      "NONE               O                751702\n",
      "TAKE BACK RETURN   O                751820\n"
     ]
    }
   ],
   "source": [
    "from tabulate import tabulate\n",
    "result_df = data.groupby(\"L_SHIPINSTRUCT\").count()\n",
    "print(tabulate(result_df.sort(result_df.columns[1]).collect(), result_df.columns))\n",
    "print\n",
    "result_df = data.groupby(\"L_SHIPINSTRUCT\", \"L_LINESTATUS\").count()\n",
    "print(tabulate(result_df.sort(result_df.columns[2]).collect(), result_df.columns))"
   ]
  },
  {
   "cell_type": "code",
   "execution_count": 69,
   "metadata": {},
   "outputs": [
    {
     "name": "stdout",
     "output_type": "stream",
     "text": [
      "+-----------------+-------+\n",
      "|   L_SHIPINSTRUCT| counts|\n",
      "+-----------------+-------+\n",
      "| TAKE BACK RETURN|1499758|\n",
      "|      COLLECT COD|1500547|\n",
      "|             NONE|1500862|\n",
      "|DELIVER IN PERSON|1500048|\n",
      "+-----------------+-------+\n",
      "\n"
     ]
    }
   ],
   "source": [
    "session.sql(\"\"\"\n",
    "  select L_SHIPINSTRUCT, \n",
    "         count(1) as counts \n",
    "    from lineitem \n",
    "group by L_SHIPINSTRUCT\"\"\").show()"
   ]
  },
  {
   "cell_type": "code",
   "execution_count": 7,
   "metadata": {},
   "outputs": [
    {
     "data": {
      "text/plain": [
       "10"
      ]
     },
     "execution_count": 7,
     "metadata": {},
     "output_type": "execute_result"
    }
   ],
   "source": [
    "session.range(5).rdd.flatMap(lambda x: x).sum()"
   ]
  },
  {
   "cell_type": "code",
   "execution_count": 9,
   "metadata": {},
   "outputs": [
    {
     "data": {
      "text/plain": [
       "['__abs__',\n",
       " '__add__',\n",
       " '__and__',\n",
       " '__concat__',\n",
       " '__contains__',\n",
       " '__delitem__',\n",
       " '__delslice__',\n",
       " '__div__',\n",
       " '__doc__',\n",
       " '__eq__',\n",
       " '__floordiv__',\n",
       " '__ge__',\n",
       " '__getitem__',\n",
       " '__getslice__',\n",
       " '__gt__',\n",
       " '__iadd__',\n",
       " '__iand__',\n",
       " '__iconcat__',\n",
       " '__idiv__',\n",
       " '__ifloordiv__',\n",
       " '__ilshift__',\n",
       " '__imod__',\n",
       " '__imul__',\n",
       " '__index__',\n",
       " '__inv__',\n",
       " '__invert__',\n",
       " '__ior__',\n",
       " '__ipow__',\n",
       " '__irepeat__',\n",
       " '__irshift__',\n",
       " '__isub__',\n",
       " '__itruediv__',\n",
       " '__ixor__',\n",
       " '__le__',\n",
       " '__lshift__',\n",
       " '__lt__',\n",
       " '__mod__',\n",
       " '__mul__',\n",
       " '__name__',\n",
       " '__ne__',\n",
       " '__neg__',\n",
       " '__not__',\n",
       " '__or__',\n",
       " '__package__',\n",
       " '__pos__',\n",
       " '__pow__',\n",
       " '__repeat__',\n",
       " '__rshift__',\n",
       " '__setitem__',\n",
       " '__setslice__',\n",
       " '__sub__',\n",
       " '__truediv__',\n",
       " '__xor__',\n",
       " '_compare_digest',\n",
       " 'abs',\n",
       " 'add',\n",
       " 'and_',\n",
       " 'attrgetter',\n",
       " 'concat',\n",
       " 'contains',\n",
       " 'countOf',\n",
       " 'delitem',\n",
       " 'delslice',\n",
       " 'div',\n",
       " 'eq',\n",
       " 'floordiv',\n",
       " 'ge',\n",
       " 'getitem',\n",
       " 'getslice',\n",
       " 'gt',\n",
       " 'iadd',\n",
       " 'iand',\n",
       " 'iconcat',\n",
       " 'idiv',\n",
       " 'ifloordiv',\n",
       " 'ilshift',\n",
       " 'imod',\n",
       " 'imul',\n",
       " 'index',\n",
       " 'indexOf',\n",
       " 'inv',\n",
       " 'invert',\n",
       " 'ior',\n",
       " 'ipow',\n",
       " 'irepeat',\n",
       " 'irshift',\n",
       " 'isCallable',\n",
       " 'isMappingType',\n",
       " 'isNumberType',\n",
       " 'isSequenceType',\n",
       " 'is_',\n",
       " 'is_not',\n",
       " 'isub',\n",
       " 'itemgetter',\n",
       " 'itruediv',\n",
       " 'ixor',\n",
       " 'le',\n",
       " 'lshift',\n",
       " 'lt',\n",
       " 'methodcaller',\n",
       " 'mod',\n",
       " 'mul',\n",
       " 'ne',\n",
       " 'neg',\n",
       " 'not_',\n",
       " 'or_',\n",
       " 'pos',\n",
       " 'pow',\n",
       " 'repeat',\n",
       " 'rshift',\n",
       " 'sequenceIncludes',\n",
       " 'setitem',\n",
       " 'setslice',\n",
       " 'sub',\n",
       " 'truediv',\n",
       " 'truth',\n",
       " 'xor']"
      ]
     },
     "execution_count": 9,
     "metadata": {},
     "output_type": "execute_result"
    }
   ],
   "source": [
    "import operator\n",
    "dir(operator)"
   ]
  },
  {
   "cell_type": "code",
   "execution_count": 19,
   "metadata": {},
   "outputs": [
    {
     "name": "stdout",
     "output_type": "stream",
     "text": [
      "+-----------------+-------------------+--------------------+\n",
      "|   L_SHIPINSTRUCT|count(L_LINESTATUS)|kurtosis(L_QUANTITY)|\n",
      "+-----------------+-------------------+--------------------+\n",
      "| TAKE BACK RETURN|            1499758| -1.1999482908232582|\n",
      "|      COLLECT COD|            1500547| -1.2003436731194417|\n",
      "|             NONE|            1500862| -1.2003951170092844|\n",
      "|DELIVER IN PERSON|            1500048| -1.2002589048783696|\n",
      "+-----------------+-------------------+--------------------+\n",
      "\n"
     ]
    }
   ],
   "source": [
    "from pyspark.sql.functions import count, expr\n",
    "data.groupby(\"L_SHIPINSTRUCT\").agg(count(\"L_LINESTATUS\"), expr(\"kurtosis(L_QUANTITY)\")).show()"
   ]
  },
  {
   "cell_type": "code",
   "execution_count": 27,
   "metadata": {},
   "outputs": [
    {
     "name": "stdout",
     "output_type": "stream",
     "text": [
      "+-----------------+--------+-------------------+\n",
      "|   L_SHIPINSTRUCT|count(1)|count(L_LINESTATUS)|\n",
      "+-----------------+--------+-------------------+\n",
      "| TAKE BACK RETURN| 1499758|            1499758|\n",
      "|      COLLECT COD| 1500547|            1500547|\n",
      "|             NONE| 1500862|            1500862|\n",
      "|DELIVER IN PERSON| 1500048|            1500048|\n",
      "+-----------------+--------+-------------------+\n",
      "\n"
     ]
    }
   ],
   "source": [
    "from pyspark.sql.functions import count, expr\n",
    "data.groupBy(\"L_SHIPINSTRUCT\").agg({\"L_LINESTATUS\": \"count\", \"*\": \"count\"}).show()"
   ]
  },
  {
   "cell_type": "code",
   "execution_count": 42,
   "metadata": {},
   "outputs": [
    {
     "name": "stdout",
     "output_type": "stream",
     "text": [
      "+----------+----------+----------+----+----------+------+\n",
      "|L_QUANTITY|L_SHIPDATE|L_ORDERKEY|rank|dense_rank|window|\n",
      "+----------+----------+----------+----+----------+------+\n",
      "|        48|1992-05-01|    997317|   1|         1|  48.0|\n",
      "|        27|1992-05-01|    990180|   2|         2|  48.0|\n",
      "|        46|1992-05-01|    988676|   3|         3|  48.0|\n",
      "|         4|1992-05-01|    987526|   4|         4|  48.0|\n",
      "|        21|1992-05-01|    986884|   5|         5|  48.0|\n",
      "|        45|1992-05-01|    986112|   6|         6|  48.0|\n",
      "|         2|1992-05-01|      9793|   7|         7|  48.0|\n",
      "|        40|1992-05-01|    978883|   8|         8|  48.0|\n",
      "|        47|1992-05-01|    978533|   9|         9|  48.0|\n",
      "|        31|1992-05-01|    977057|  10|        10|  48.0|\n",
      "|        42|1992-05-01|    976006|  11|        11|  48.0|\n",
      "|         2|1992-05-01|    975714|  12|        12|  48.0|\n",
      "|        23|1992-05-01|    975269|  13|        13|  48.0|\n",
      "|        45|1992-05-01|    975008|  14|        14|  48.0|\n",
      "|         1|1992-05-01|    975008|  14|        14|  48.0|\n",
      "|        15|1992-05-01|     97058|  16|        15|  48.0|\n",
      "|        48|1992-05-01|    967843|  17|        16|  48.0|\n",
      "|        36|1992-05-01|    964161|  18|        17|  48.0|\n",
      "|        29|1992-05-01|    964161|  18|        17|  48.0|\n",
      "|         5|1992-05-01|    964006|  20|        18|  48.0|\n",
      "|        36|1992-05-01|    963268|  21|        19|  48.0|\n",
      "|        50|1992-05-01|    961895|  22|        20|  50.0|\n",
      "|         3|1992-05-01|    954881|  23|        21|  50.0|\n",
      "|        19|1992-05-01|    952966|  24|        22|  50.0|\n",
      "|        31|1992-05-01|    952100|  25|        23|  50.0|\n",
      "|        29|1992-05-01|     95111|  26|        24|  50.0|\n",
      "|        39|1992-05-01|    950785|  27|        25|  50.0|\n",
      "|        15|1992-05-01|    949030|  28|        26|  50.0|\n",
      "|         4|1992-05-01|    948903|  29|        27|  50.0|\n",
      "|        50|1992-05-01|     94823|  30|        28|  50.0|\n",
      "|        12|1992-05-01|    948003|  31|        29|  50.0|\n",
      "|        25|1992-05-01|    947268|  32|        30|  50.0|\n",
      "|        29|1992-05-01|    945472|  33|        31|  50.0|\n",
      "|        10|1992-05-01|    942695|  34|        32|  50.0|\n",
      "|        10|1992-05-01|    940673|  35|        33|  50.0|\n",
      "|         8|1992-05-01|    940356|  36|        34|  50.0|\n",
      "|        41|1992-05-01|    937989|  37|        35|  50.0|\n",
      "|        27|1992-05-01|    933573|  38|        36|  50.0|\n",
      "|         9|1992-05-01|    931649|  39|        37|  50.0|\n",
      "|         8|1992-05-01|    929893|  40|        38|  50.0|\n",
      "|        31|1992-05-01|    929414|  41|        39|  50.0|\n",
      "|         3|1992-05-01|    925539|  42|        40|  50.0|\n",
      "|        10|1992-05-01|    923360|  43|        41|  50.0|\n",
      "|        10|1992-05-01|    921282|  44|        42|  50.0|\n",
      "|        41|1992-05-01|    916288|  45|        43|  50.0|\n",
      "|        14|1992-05-01|    915687|  46|        44|  50.0|\n",
      "|         1|1992-05-01|    914661|  47|        45|  50.0|\n",
      "|        23|1992-05-01|    912514|  48|        46|  50.0|\n",
      "|        36|1992-05-01|    910756|  49|        47|  50.0|\n",
      "|        26|1992-05-01|    910502|  50|        48|  50.0|\n",
      "|        16|1992-05-01|    909282|  51|        49|  50.0|\n",
      "|         7|1992-05-01|    904544|  52|        50|  50.0|\n",
      "|        11|1992-05-01|     90400|  53|        51|  50.0|\n",
      "|         3|1992-05-01|    903111|  54|        52|  50.0|\n",
      "|        18|1992-05-01|    902727|  55|        53|  50.0|\n",
      "|         9|1992-05-01|    901409|  56|        54|  50.0|\n",
      "|         1|1992-05-01|     89954|  57|        55|  50.0|\n",
      "|        27|1992-05-01|    898848|  58|        56|  50.0|\n",
      "|        34|1992-05-01|    895906|  59|        57|  50.0|\n",
      "|        11|1992-05-01|    890661|  60|        58|  50.0|\n",
      "|        35|1992-05-01|    890144|  61|        59|  50.0|\n",
      "|        18|1992-05-01|     88643|  62|        60|  50.0|\n",
      "|        11|1992-05-01|    886308|  63|        61|  50.0|\n",
      "|        43|1992-05-01|    886305|  64|        62|  50.0|\n",
      "|        25|1992-05-01|    885349|  65|        63|  50.0|\n",
      "|        47|1992-05-01|    879621|  66|        64|  50.0|\n",
      "|        15|1992-05-01|    879366|  67|        65|  50.0|\n",
      "|        10|1992-05-01|    877735|  68|        66|  50.0|\n",
      "|        26|1992-05-01|    877735|  68|        66|  50.0|\n",
      "|        12|1992-05-01|    874661|  70|        67|  50.0|\n",
      "|        11|1992-05-01|    873763|  71|        68|  50.0|\n",
      "|        29|1992-05-01|    873504|  72|        69|  50.0|\n",
      "|         8|1992-05-01|    872805|  73|        70|  50.0|\n",
      "|        25|1992-05-01|     86918|  74|        71|  50.0|\n",
      "|        19|1992-05-01|    868839|  75|        72|  50.0|\n",
      "|        37|1992-05-01|    867137|  76|        73|  50.0|\n",
      "|        42|1992-05-01|     86148|  77|        74|  50.0|\n",
      "|        36|1992-05-01|    861249|  78|        75|  50.0|\n",
      "|        44|1992-05-01|    857761|  79|        76|  50.0|\n",
      "|        43|1992-05-01|    857638|  80|        77|  50.0|\n",
      "|        21|1992-05-01|    856581|  81|        78|  50.0|\n",
      "|        43|1992-05-01|    853860|  82|        79|  50.0|\n",
      "|        12|1992-05-01|    850820|  83|        80|  50.0|\n",
      "|        29|1992-05-01|    849829|  84|        81|  50.0|\n",
      "|        33|1992-05-01|    848704|  85|        82|  50.0|\n",
      "|        23|1992-05-01|     84806|  86|        83|  50.0|\n",
      "|        27|1992-05-01|    845510|  87|        84|  50.0|\n",
      "|        25|1992-05-01|     84455|  88|        85|  50.0|\n",
      "|        50|1992-05-01|    844289|  89|        86|  50.0|\n",
      "|        38|1992-05-01|    844289|  89|        86|  50.0|\n",
      "|        47|1992-05-01|    843719|  91|        87|  50.0|\n",
      "|        14|1992-05-01|    840226|  92|        88|  50.0|\n",
      "|        41|1992-05-01|     83745|  93|        89|  50.0|\n",
      "|        44|1992-05-01|    837186|  94|        90|  50.0|\n",
      "|        16|1992-05-01|    836709|  95|        91|  50.0|\n",
      "|        44|1992-05-01|    836291|  96|        92|  50.0|\n",
      "|         7|1992-05-01|    834882|  97|        93|  50.0|\n",
      "|        45|1992-05-01|    828739|  98|        94|  50.0|\n",
      "|        26|1992-05-01|    820864|  99|        95|  50.0|\n",
      "|        25|1992-05-01|    817634| 100|        96|  50.0|\n",
      "+----------+----------+----------+----+----------+------+\n",
      "only showing top 100 rows\n",
      "\n"
     ]
    }
   ],
   "source": [
    "from pyspark.sql.window import Window\n",
    "from pyspark.sql.functions import desc, max, col, dense_rank, rank\n",
    "\n",
    "window_spec = Window.partitionBy(\"L_SHIPDATE\")\\\n",
    "                    .orderBy(desc(\"L_ORDERKEY\"))\\\n",
    "                    .rowsBetween(Window.unboundedPreceding, Window.currentRow)\n",
    "\n",
    "data.select(\"L_QUANTITY\",\n",
    "            \"L_SHIPDATE\", \n",
    "            \"L_ORDERKEY\",\n",
    "            rank().over(window_spec).alias(\"rank\"),\n",
    "            dense_rank().over(window_spec).alias(\"dense_rank\"),            \n",
    "            max(col(\"L_QUANTITY\").cast(\"float\")).over(window_spec).alias(\"window\")).show(100)"
   ]
  },
  {
   "cell_type": "code",
   "execution_count": 50,
   "metadata": {},
   "outputs": [
    {
     "name": "stdout",
     "output_type": "stream",
     "text": [
      "+-----------------+------------+--------------+\n",
      "|   L_SHIPINSTRUCT|L_LINESTATUS|total_quantity|\n",
      "+-----------------+------------+--------------+\n",
      "| TAKE BACK RETURN|           F|      19089435|\n",
      "|             NONE|           F|      19104505|\n",
      "|DELIVER IN PERSON|           F|      19114289|\n",
      "|      COLLECT COD|           O|      19135219|\n",
      "|      COLLECT COD|           F|      19137048|\n",
      "|DELIVER IN PERSON|           O|      19149263|\n",
      "|             NONE|           O|      19171510|\n",
      "| TAKE BACK RETURN|           O|      19177526|\n",
      "|DELIVER IN PERSON|        null|      38263552|\n",
      "| TAKE BACK RETURN|        null|      38266961|\n",
      "|      COLLECT COD|        null|      38272267|\n",
      "|             NONE|        null|      38276015|\n",
      "|             null|        null|     153078795|\n",
      "+-----------------+------------+--------------+\n",
      "\n"
     ]
    }
   ],
   "source": [
    "from pyspark.sql.functions import sum, expr\n",
    "\n",
    "def do_summary(df):\n",
    "data.rollup(\"L_SHIPINSTRUCT\", \"L_LINESTATUS\")\\\n",
    "    .agg(sum(expr(\"cast(L_QUANTITY as decimal)\")))\\\n",
    "    .selectExpr(\"L_SHIPINSTRUCT\", \"L_LINESTATUS\", \"`sum(CAST(L_QUANTITY AS DECIMAL(10,0)))` as total_quantity\")\\\n",
    "    .sort(\"total_quantity\")\\\n",
    "    .show()"
   ]
  },
  {
   "cell_type": "code",
   "execution_count": 55,
   "metadata": {},
   "outputs": [
    {
     "data": {
      "text/plain": [
       "6001215"
      ]
     },
     "execution_count": 55,
     "metadata": {},
     "output_type": "execute_result"
    }
   ],
   "source": [
    "from pyspark.sql import DataFrame\n",
    "DataFrame.count(data)"
   ]
  },
  {
   "cell_type": "code",
   "execution_count": 57,
   "metadata": {
    "scrolled": true
   },
   "outputs": [
    {
     "name": "stdout",
     "output_type": "stream",
     "text": [
      "rollup\n",
      "L_SHIPINSTRUCT     L_LINESTATUS      total_quantity\n",
      "-----------------  --------------  ----------------\n",
      "TAKE BACK RETURN   F                    1.90894e+07\n",
      "NONE               F                    1.91045e+07\n",
      "DELIVER IN PERSON  F                    1.91143e+07\n",
      "COLLECT COD        O                    1.91352e+07\n",
      "COLLECT COD        F                    1.9137e+07\n",
      "DELIVER IN PERSON  O                    1.91493e+07\n",
      "NONE               O                    1.91715e+07\n",
      "TAKE BACK RETURN   O                    1.91775e+07\n",
      "DELIVER IN PERSON                       3.82636e+07\n",
      "TAKE BACK RETURN                        3.8267e+07\n",
      "COLLECT COD                             3.82723e+07\n",
      "NONE                                    3.8276e+07\n",
      "                                        1.53079e+08\n",
      "\n",
      "cube\n",
      "L_SHIPINSTRUCT     L_LINESTATUS      total_quantity\n",
      "-----------------  --------------  ----------------\n",
      "TAKE BACK RETURN   F                    1.90894e+07\n",
      "NONE               F                    1.91045e+07\n",
      "DELIVER IN PERSON  F                    1.91143e+07\n",
      "COLLECT COD        O                    1.91352e+07\n",
      "COLLECT COD        F                    1.9137e+07\n",
      "DELIVER IN PERSON  O                    1.91493e+07\n",
      "NONE               O                    1.91715e+07\n",
      "TAKE BACK RETURN   O                    1.91775e+07\n",
      "DELIVER IN PERSON                       3.82636e+07\n",
      "TAKE BACK RETURN                        3.8267e+07\n",
      "COLLECT COD                             3.82723e+07\n",
      "NONE                                    3.8276e+07\n",
      "                   F                    7.64453e+07\n",
      "                   O                    7.66335e+07\n",
      "                                        1.53079e+08\n",
      "\n"
     ]
    }
   ],
   "source": [
    "from pyspark.sql.functions import sum, expr\n",
    "from pyspark.sql import DataFrame\n",
    "from tabulate import tabulate\n",
    "\n",
    "def do_summary(summary_function):\n",
    "    print(summary_function.func_name)\n",
    "    df = summary_function(data, \"L_SHIPINSTRUCT\", \"L_LINESTATUS\")\\\n",
    "                            .agg(sum(expr(\"cast(L_QUANTITY as decimal)\")))\\\n",
    "                            .selectExpr(\"L_SHIPINSTRUCT\", \"L_LINESTATUS\", \"`sum(CAST(L_QUANTITY AS DECIMAL(10,0)))` as total_quantity\")\\\n",
    "                            .sort(\"total_quantity\")\n",
    "    print(tabulate(df.collect(), df.columns))\n",
    "    print\n",
    "\n",
    "do_summary(DataFrame.rollup)\n",
    "do_summary(DataFrame.cube)"
   ]
  },
  {
   "cell_type": "code",
   "execution_count": 59,
   "metadata": {},
   "outputs": [
    {
     "name": "stdout",
     "output_type": "stream",
     "text": [
      "+-----------------+--------+--------+\n",
      "|   L_SHIPINSTRUCT|       F|       O|\n",
      "+-----------------+--------+--------+\n",
      "| TAKE BACK RETURN|19089435|19177526|\n",
      "|      COLLECT COD|19137048|19135219|\n",
      "|             NONE|19104505|19171510|\n",
      "|DELIVER IN PERSON|19114289|19149263|\n",
      "+-----------------+--------+--------+\n",
      "\n"
     ]
    }
   ],
   "source": [
    "from pyspark.sql.functions import sum\n",
    "data.groupby(\"L_SHIPINSTRUCT\").pivot(\"L_LINESTATUS\").agg(sum(col(\"L_QUANTITY\").cast(\"decimal\"))).show()"
   ]
  },
  {
   "cell_type": "code",
   "execution_count": 61,
   "metadata": {},
   "outputs": [],
   "source": [
    "li = session.read.csv(\"/home/orpington/Desktop/dbgen/tpch-dbgen/lineitem.tbl*\", sep=\"|\")"
   ]
  },
  {
   "cell_type": "code",
   "execution_count": 62,
   "metadata": {},
   "outputs": [
    {
     "data": {
      "text/plain": [
       "524715971"
      ]
     },
     "execution_count": 62,
     "metadata": {},
     "output_type": "execute_result"
    }
   ],
   "source": [
    "li.count()"
   ]
  },
  {
   "cell_type": "code",
   "execution_count": null,
   "metadata": {},
   "outputs": [],
   "source": []
  }
 ],
 "metadata": {
  "kernelspec": {
   "display_name": "Python 2",
   "language": "python",
   "name": "python2"
  },
  "language_info": {
   "codemirror_mode": {
    "name": "ipython",
    "version": 2
   },
   "file_extension": ".py",
   "mimetype": "text/x-python",
   "name": "python",
   "nbconvert_exporter": "python",
   "pygments_lexer": "ipython2",
   "version": "2.7.12"
  }
 },
 "nbformat": 4,
 "nbformat_minor": 2
}
